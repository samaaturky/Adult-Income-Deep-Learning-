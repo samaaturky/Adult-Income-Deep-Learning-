{
  "nbformat": 4,
  "nbformat_minor": 0,
  "metadata": {
    "colab": {
      "provenance": []
    },
    "kernelspec": {
      "name": "python3",
      "display_name": "Python 3"
    },
    "language_info": {
      "name": "python"
    }
  },
  "cells": [
    {
      "cell_type": "markdown",
      "source": [
        "# 🧠 Deep Learning Practical Assignment (Adult Income Dataset)\n",
        "\n",
        "## 📌 Dataset\n",
        "We will use the **Adult Income dataset** (also known as the Census Income dataset).  \n",
        "The task is to predict whether a person earns **more than $50K/year** based on demographic and employment attributes.\n",
        "\n",
        "---\n"
      ],
      "metadata": {
        "id": "THxjKfmyG-St"
      }
    },
    {
      "cell_type": "code",
      "source": [
        "%pip install category_encoders"
      ],
      "metadata": {
        "id": "gN3H1yF7Xpb5",
        "colab": {
          "base_uri": "https://localhost:8080/"
        },
        "outputId": "093ed968-2d52-4d1f-c776-f794c9246cec"
      },
      "execution_count": null,
      "outputs": [
        {
          "output_type": "stream",
          "name": "stdout",
          "text": [
            "Collecting category_encoders\n",
            "  Downloading category_encoders-2.8.1-py3-none-any.whl.metadata (7.9 kB)\n",
            "Requirement already satisfied: numpy>=1.14.0 in /usr/local/lib/python3.12/dist-packages (from category_encoders) (2.0.2)\n",
            "Requirement already satisfied: pandas>=1.0.5 in /usr/local/lib/python3.12/dist-packages (from category_encoders) (2.2.2)\n",
            "Requirement already satisfied: patsy>=0.5.1 in /usr/local/lib/python3.12/dist-packages (from category_encoders) (1.0.1)\n",
            "Requirement already satisfied: scikit-learn>=1.6.0 in /usr/local/lib/python3.12/dist-packages (from category_encoders) (1.6.1)\n",
            "Requirement already satisfied: scipy>=1.0.0 in /usr/local/lib/python3.12/dist-packages (from category_encoders) (1.16.1)\n",
            "Requirement already satisfied: statsmodels>=0.9.0 in /usr/local/lib/python3.12/dist-packages (from category_encoders) (0.14.5)\n",
            "Requirement already satisfied: python-dateutil>=2.8.2 in /usr/local/lib/python3.12/dist-packages (from pandas>=1.0.5->category_encoders) (2.9.0.post0)\n",
            "Requirement already satisfied: pytz>=2020.1 in /usr/local/lib/python3.12/dist-packages (from pandas>=1.0.5->category_encoders) (2025.2)\n",
            "Requirement already satisfied: tzdata>=2022.7 in /usr/local/lib/python3.12/dist-packages (from pandas>=1.0.5->category_encoders) (2025.2)\n",
            "Requirement already satisfied: joblib>=1.2.0 in /usr/local/lib/python3.12/dist-packages (from scikit-learn>=1.6.0->category_encoders) (1.5.2)\n",
            "Requirement already satisfied: threadpoolctl>=3.1.0 in /usr/local/lib/python3.12/dist-packages (from scikit-learn>=1.6.0->category_encoders) (3.6.0)\n",
            "Requirement already satisfied: packaging>=21.3 in /usr/local/lib/python3.12/dist-packages (from statsmodels>=0.9.0->category_encoders) (25.0)\n",
            "Requirement already satisfied: six>=1.5 in /usr/local/lib/python3.12/dist-packages (from python-dateutil>=2.8.2->pandas>=1.0.5->category_encoders) (1.17.0)\n",
            "Downloading category_encoders-2.8.1-py3-none-any.whl (85 kB)\n",
            "\u001b[2K   \u001b[90m━━━━━━━━━━━━━━━━━━━━━━━━━━━━━━━━━━━━━━━━\u001b[0m \u001b[32m85.7/85.7 kB\u001b[0m \u001b[31m3.9 MB/s\u001b[0m eta \u001b[36m0:00:00\u001b[0m\n",
            "\u001b[?25hInstalling collected packages: category_encoders\n",
            "Successfully installed category_encoders-2.8.1\n"
          ]
        }
      ]
    },
    {
      "cell_type": "code",
      "source": [
        "import seaborn as sns\n",
        "from sklearn.model_selection import train_test_split\n",
        "from sklearn.preprocessing import OneHotEncoder, OrdinalEncoder\n",
        "from category_encoders import TargetEncoder\n",
        "from sklearn.preprocessing import StandardScaler, PowerTransformer\n",
        "from sklearn.metrics import accuracy_score\n",
        "from sklearn.linear_model import LogisticRegression\n",
        "from sklearn.ensemble import RandomForestClassifier\n",
        "from xgboost import XGBClassifier"
      ],
      "metadata": {
        "id": "dh2FRBopTaro"
      },
      "execution_count": null,
      "outputs": []
    },
    {
      "cell_type": "code",
      "execution_count": null,
      "metadata": {
        "colab": {
          "base_uri": "https://localhost:8080/"
        },
        "id": "ETxUv-9oGeuT",
        "outputId": "0e42d424-bcc0-4600-be9e-3c7e1e1f71d6"
      },
      "outputs": [
        {
          "output_type": "stream",
          "name": "stdout",
          "text": [
            "   age  workclass  fnlwgt     education  education-num      marital-status  \\\n",
            "0   25    Private  226802          11th              7       Never-married   \n",
            "1   38    Private   89814       HS-grad              9  Married-civ-spouse   \n",
            "2   28  Local-gov  336951    Assoc-acdm             12  Married-civ-spouse   \n",
            "3   44    Private  160323  Some-college             10  Married-civ-spouse   \n",
            "4   18        NaN  103497  Some-college             10       Never-married   \n",
            "\n",
            "          occupation relationship   race     sex  capital-gain  capital-loss  \\\n",
            "0  Machine-op-inspct    Own-child  Black    Male             0             0   \n",
            "1    Farming-fishing      Husband  White    Male             0             0   \n",
            "2    Protective-serv      Husband  White    Male             0             0   \n",
            "3  Machine-op-inspct      Husband  Black    Male          7688             0   \n",
            "4                NaN    Own-child  White  Female             0             0   \n",
            "\n",
            "   hours-per-week native-country  class  \n",
            "0              40  United-States  <=50K  \n",
            "1              50  United-States  <=50K  \n",
            "2              40  United-States   >50K  \n",
            "3              40  United-States   >50K  \n",
            "4              30  United-States  <=50K  \n",
            "(48842, 15)\n"
          ]
        }
      ],
      "source": [
        "# Option 1: Using OpenML via scikit-learn\n",
        "from sklearn.datasets import fetch_openml\n",
        "import pandas as pd\n",
        "\n",
        "# Load dataset from OpenML\n",
        "adult = fetch_openml(name=\"adult\", version=2, as_frame=True)\n",
        "df = adult.frame\n",
        "\n",
        "print(df.head())\n",
        "print(df.shape)  # (48842, 15)\n",
        "\n"
      ]
    },
    {
      "cell_type": "markdown",
      "source": [
        "## Part 0: Data Preparation\n",
        "1. Load the dataset into a DataFrame.\n",
        "2. Split the data into **training, validation, and test sets**.  \n",
        "   - Suggested: 70% training, 15% validation, 15% test.\n",
        "3. Apply any necessary preprocessing:\n",
        "   - Handle categorical features (encoding).\n",
        "   - Scale numerical features if needed.\n",
        "4. After training your models, always report results on:\n",
        "   - **Training accuracy**\n",
        "   - **Validation accuracy**\n",
        "   - **Test accuracy**\n",
        "5. At the end of the assignment, **compare all methods** across train, validation, and test sets.\n"
      ],
      "metadata": {
        "id": "qqY4sTfrHQF_"
      }
    },
    {
      "cell_type": "code",
      "source": [
        "df.duplicated().sum()"
      ],
      "metadata": {
        "id": "3uG3mAu5HTJI",
        "colab": {
          "base_uri": "https://localhost:8080/"
        },
        "outputId": "54ea9e80-747d-40a5-e46d-6fc56cad155c"
      },
      "execution_count": null,
      "outputs": [
        {
          "output_type": "execute_result",
          "data": {
            "text/plain": [
              "np.int64(52)"
            ]
          },
          "metadata": {},
          "execution_count": 4
        }
      ]
    },
    {
      "cell_type": "markdown",
      "source": [
        "- since not too much duplicates, drop"
      ],
      "metadata": {
        "id": "34_Jnld3Sp8s"
      }
    },
    {
      "cell_type": "code",
      "source": [
        "df=df.drop_duplicates()\n",
        "df.duplicated().sum()"
      ],
      "metadata": {
        "colab": {
          "base_uri": "https://localhost:8080/"
        },
        "id": "Cs-0YNXoStyP",
        "outputId": "78402717-94e6-4ada-f1f7-140615234a2a"
      },
      "execution_count": null,
      "outputs": [
        {
          "output_type": "execute_result",
          "data": {
            "text/plain": [
              "np.int64(0)"
            ]
          },
          "metadata": {},
          "execution_count": 5
        }
      ]
    },
    {
      "cell_type": "code",
      "source": [
        "df.info()"
      ],
      "metadata": {
        "colab": {
          "base_uri": "https://localhost:8080/"
        },
        "id": "fxjHD0kUS6Xq",
        "outputId": "cc09d61b-7577-4a99-a894-31e2021d1c23"
      },
      "execution_count": null,
      "outputs": [
        {
          "output_type": "stream",
          "name": "stdout",
          "text": [
            "<class 'pandas.core.frame.DataFrame'>\n",
            "Index: 48790 entries, 0 to 48841\n",
            "Data columns (total 15 columns):\n",
            " #   Column          Non-Null Count  Dtype   \n",
            "---  ------          --------------  -----   \n",
            " 0   age             48790 non-null  int64   \n",
            " 1   workclass       45995 non-null  category\n",
            " 2   fnlwgt          48790 non-null  int64   \n",
            " 3   education       48790 non-null  category\n",
            " 4   education-num   48790 non-null  int64   \n",
            " 5   marital-status  48790 non-null  category\n",
            " 6   occupation      45985 non-null  category\n",
            " 7   relationship    48790 non-null  category\n",
            " 8   race            48790 non-null  category\n",
            " 9   sex             48790 non-null  category\n",
            " 10  capital-gain    48790 non-null  int64   \n",
            " 11  capital-loss    48790 non-null  int64   \n",
            " 12  hours-per-week  48790 non-null  int64   \n",
            " 13  native-country  47934 non-null  category\n",
            " 14  class           48790 non-null  category\n",
            "dtypes: category(9), int64(6)\n",
            "memory usage: 3.0 MB\n"
          ]
        }
      ]
    },
    {
      "cell_type": "code",
      "source": [
        "df.select_dtypes(include=['int64']).hist(figsize=(10, 10))"
      ],
      "metadata": {
        "colab": {
          "base_uri": "https://localhost:8080/",
          "height": 957
        },
        "id": "U8st9buISzaU",
        "outputId": "9636cb84-f160-4c05-d464-fb72c683148f"
      },
      "execution_count": null,
      "outputs": [
        {
          "output_type": "execute_result",
          "data": {
            "text/plain": [
              "array([[<Axes: title={'center': 'age'}>,\n",
              "        <Axes: title={'center': 'fnlwgt'}>],\n",
              "       [<Axes: title={'center': 'education-num'}>,\n",
              "        <Axes: title={'center': 'capital-gain'}>],\n",
              "       [<Axes: title={'center': 'capital-loss'}>,\n",
              "        <Axes: title={'center': 'hours-per-week'}>]], dtype=object)"
            ]
          },
          "metadata": {},
          "execution_count": 7
        },
        {
          "output_type": "display_data",
          "data": {
            "text/plain": [
              "<Figure size 1000x1000 with 6 Axes>"
            ],
            "image/png": "[encoded data removed]"
          },
          "metadata": {}
        }
      ]
    },
    {
      "cell_type": "code",
      "source": [
        "df=df.drop(columns=['capital-gain','capital-loss'])\n",
        "df.info()"
      ],
      "metadata": {
        "colab": {
          "base_uri": "https://localhost:8080/"
        },
        "id": "-r6z5JOtTXdU",
        "outputId": "2612ad02-0cb3-48be-d4e7-69d7ca7b2576"
      },
      "execution_count": null,
      "outputs": [
        {
          "output_type": "stream",
          "name": "stdout",
          "text": [
            "<class 'pandas.core.frame.DataFrame'>\n",
            "Index: 48790 entries, 0 to 48841\n",
            "Data columns (total 13 columns):\n",
            " #   Column          Non-Null Count  Dtype   \n",
            "---  ------          --------------  -----   \n",
            " 0   age             48790 non-null  int64   \n",
            " 1   workclass       45995 non-null  category\n",
            " 2   fnlwgt          48790 non-null  int64   \n",
            " 3   education       48790 non-null  category\n",
            " 4   education-num   48790 non-null  int64   \n",
            " 5   marital-status  48790 non-null  category\n",
            " 6   occupation      45985 non-null  category\n",
            " 7   relationship    48790 non-null  category\n",
            " 8   race            48790 non-null  category\n",
            " 9   sex             48790 non-null  category\n",
            " 10  hours-per-week  48790 non-null  int64   \n",
            " 11  native-country  47934 non-null  category\n",
            " 12  class           48790 non-null  category\n",
            "dtypes: category(9), int64(4)\n",
            "memory usage: 2.3 MB\n"
          ]
        }
      ]
    },
    {
      "cell_type": "code",
      "source": [
        "sns.countplot(data=df,x='class')"
      ],
      "metadata": {
        "colab": {
          "base_uri": "https://localhost:8080/",
          "height": 466
        },
        "id": "xDrVJMllT6WA",
        "outputId": "31955a56-1540-4991-f783-2ef644d1d7a6"
      },
      "execution_count": null,
      "outputs": [
        {
          "output_type": "execute_result",
          "data": {
            "text/plain": [
              "<Axes: xlabel='class', ylabel='count'>"
            ]
          },
          "metadata": {},
          "execution_count": 9
        },
        {
          "output_type": "display_data",
          "data": {
            "text/plain": [
              "<Figure size 640x480 with 1 Axes>"
            ],
            "image/png": "[encoded data removed]"
          },
          "metadata": {}
        }
      ]
    },
    {
      "cell_type": "markdown",
      "source": [
        "- target is not balanced"
      ],
      "metadata": {
        "id": "JbWGvuhgUBXs"
      }
    },
    {
      "cell_type": "code",
      "source": [
        "from sklearn.preprocessing import LabelEncoder\n",
        "le = LabelEncoder()\n",
        "y = le.fit_transform(df[\"class\"])"
      ],
      "metadata": {
        "id": "tdMJCFgFT6Sd"
      },
      "execution_count": null,
      "outputs": []
    },
    {
      "cell_type": "code",
      "source": [
        "df[df.select_dtypes(include='category').columns]= df.select_dtypes(include='category').astype(str)\n",
        "df.info()"
      ],
      "metadata": {
        "colab": {
          "base_uri": "https://localhost:8080/"
        },
        "id": "J12CoHSzT6QO",
        "outputId": "a8d523b5-16f0-477e-b367-f23af8e1e0d4"
      },
      "execution_count": null,
      "outputs": [
        {
          "output_type": "stream",
          "name": "stdout",
          "text": [
            "<class 'pandas.core.frame.DataFrame'>\n",
            "Index: 48790 entries, 0 to 48841\n",
            "Data columns (total 13 columns):\n",
            " #   Column          Non-Null Count  Dtype \n",
            "---  ------          --------------  ----- \n",
            " 0   age             48790 non-null  int64 \n",
            " 1   workclass       48790 non-null  object\n",
            " 2   fnlwgt          48790 non-null  int64 \n",
            " 3   education       48790 non-null  object\n",
            " 4   education-num   48790 non-null  int64 \n",
            " 5   marital-status  48790 non-null  object\n",
            " 6   occupation      48790 non-null  object\n",
            " 7   relationship    48790 non-null  object\n",
            " 8   race            48790 non-null  object\n",
            " 9   sex             48790 non-null  object\n",
            " 10  hours-per-week  48790 non-null  int64 \n",
            " 11  native-country  48790 non-null  object\n",
            " 12  class           48790 non-null  object\n",
            "dtypes: int64(4), object(9)\n",
            "memory usage: 5.2+ MB\n"
          ]
        }
      ]
    },
    {
      "cell_type": "code",
      "source": [
        "for col in [\"workclass\", \"occupation\", \"native-country\"]:\n",
        "    df[col] = df[col].fillna(\"Unknown\")"
      ],
      "metadata": {
        "id": "-CBrgjqVUmyK"
      },
      "execution_count": null,
      "outputs": []
    },
    {
      "cell_type": "code",
      "source": [],
      "metadata": {
        "id": "Cy2C7uZwUmrW"
      },
      "execution_count": null,
      "outputs": []
    },
    {
      "cell_type": "code",
      "source": [
        "# Separate features and target\n",
        "X = df.drop(columns=\"class\")\n",
        "y = df[\"class\"]"
      ],
      "metadata": {
        "id": "KDnR3TIjT6Nx"
      },
      "execution_count": null,
      "outputs": []
    },
    {
      "cell_type": "code",
      "source": [
        "#encode y:\n",
        "y = le.fit_transform(df[\"class\"])"
      ],
      "metadata": {
        "id": "ZABrx4Uzrqr3"
      },
      "execution_count": null,
      "outputs": []
    },
    {
      "cell_type": "code",
      "source": [
        "X_train, X_temp, y_train, y_temp =train_test_split(X, y, test_size=0.3, random_state=42, stratify=y)\n",
        "\n",
        "X_val, X_test, y_val, y_test=train_test_split(X_temp, y_temp, test_size=0.5, random_state=42, stratify=y_temp)"
      ],
      "metadata": {
        "id": "wpRO7k60WVh-"
      },
      "execution_count": null,
      "outputs": []
    },
    {
      "cell_type": "code",
      "source": [
        "categorical_cols=df.select_dtypes(include=['object'])\n",
        "for col in categorical_cols:\n",
        "  print(f'{col}: {df[col].unique()}')"
      ],
      "metadata": {
        "colab": {
          "base_uri": "https://localhost:8080/"
        },
        "id": "ncfhpW3hT6E8",
        "outputId": "8ce19737-1ec3-4283-9b6d-bf43068bb6af"
      },
      "execution_count": null,
      "outputs": [
        {
          "output_type": "stream",
          "name": "stdout",
          "text": [
            "workclass: ['Private' 'Local-gov' np.str_('nan') 'Self-emp-not-inc' 'Federal-gov'\n",
            " 'State-gov' 'Self-emp-inc' 'Without-pay' 'Never-worked']\n",
            "education: ['11th' 'HS-grad' 'Assoc-acdm' 'Some-college' '10th' 'Prof-school'\n",
            " '7th-8th' 'Bachelors' 'Masters' 'Doctorate' '5th-6th' 'Assoc-voc' '9th'\n",
            " '12th' '1st-4th' 'Preschool']\n",
            "marital-status: ['Never-married' 'Married-civ-spouse' 'Widowed' 'Divorced' 'Separated'\n",
            " 'Married-spouse-absent' 'Married-AF-spouse']\n",
            "occupation: ['Machine-op-inspct' 'Farming-fishing' 'Protective-serv' np.str_('nan')\n",
            " 'Other-service' 'Prof-specialty' 'Craft-repair' 'Adm-clerical'\n",
            " 'Exec-managerial' 'Tech-support' 'Sales' 'Priv-house-serv'\n",
            " 'Transport-moving' 'Handlers-cleaners' 'Armed-Forces']\n",
            "relationship: ['Own-child' 'Husband' 'Not-in-family' 'Unmarried' 'Wife' 'Other-relative']\n",
            "race: ['Black' 'White' 'Asian-Pac-Islander' 'Other' 'Amer-Indian-Eskimo']\n",
            "sex: ['Male' 'Female']\n",
            "native-country: ['United-States' np.str_('nan') 'Peru' 'Guatemala' 'Mexico'\n",
            " 'Dominican-Republic' 'Ireland' 'Germany' 'Philippines' 'Thailand' 'Haiti'\n",
            " 'El-Salvador' 'Puerto-Rico' 'Vietnam' 'South' 'Columbia' 'Japan' 'India'\n",
            " 'Cambodia' 'Poland' 'Laos' 'England' 'Cuba' 'Taiwan' 'Italy' 'Canada'\n",
            " 'Portugal' 'China' 'Nicaragua' 'Honduras' 'Iran' 'Scotland' 'Jamaica'\n",
            " 'Ecuador' 'Yugoslavia' 'Hungary' 'Hong' 'Greece' 'Trinadad&Tobago'\n",
            " 'Outlying-US(Guam-USVI-etc)' 'France' 'Holand-Netherlands']\n",
            "class: ['<=50K' '>50K']\n"
          ]
        }
      ]
    },
    {
      "cell_type": "code",
      "source": [
        "nominal = ['workclass', 'occupation', 'relationship', 'race', 'sex', 'native-country', 'marital-status']\n",
        "ordinal = ['education']\n",
        "\n",
        "education_order = [\n",
        "    'Preschool','1st-4th','5th-6th','7th-8th','9th',\n",
        "    '10th','11th','12th',\n",
        "    'HS-grad','Some-college','Assoc-voc','Assoc-acdm',\n",
        "    'Bachelors','Masters','Prof-school','Doctorate'\n",
        "]\n",
        "\n",
        "\n",
        "ordinal_features = ['education']\n",
        "nominal_features = ['workclass','marital-status','occupation','relationship','race','sex','native-country']\n",
        "\n",
        "#initialize encoders\n",
        "ordinal_encoder=OrdinalEncoder(categories=[education_order])\n",
        "onehot_encoder=OneHotEncoder(handle_unknown=\"ignore\")\n",
        "\n",
        "ordinal_encoder= OrdinalEncoder(categories=[education_order])\n",
        "target_encoder=TargetEncoder(cols=nominal, smoothing=0.3)\n",
        "\n",
        "X_train[ordinal] = ordinal_encoder.fit_transform(X_train[ordinal])\n",
        "X_val[ordinal] = ordinal_encoder.transform(X_val[ordinal])\n",
        "X_test[ordinal] = ordinal_encoder.transform(X_test[ordinal])\n",
        "\n",
        "X_train[nominal] = target_encoder.fit_transform(X_train[nominal], y_train)\n",
        "X_val[nominal] = target_encoder.transform(X_val[nominal])\n",
        "X_test[nominal] = target_encoder.transform(X_test[nominal])\n",
        "\n",
        "X_train.head()"
      ],
      "metadata": {
        "colab": {
          "base_uri": "https://localhost:8080/",
          "height": 206
        },
        "id": "eSIAVgviV2B7",
        "outputId": "972396e5-07f9-4dcb-aab6-abedb6a446b8"
      },
      "execution_count": null,
      "outputs": [
        {
          "output_type": "execute_result",
          "data": {
            "text/plain": [
              "       age  workclass  fnlwgt  education  education-num  marital-status  \\\n",
              "35760   59    0.21797  146391       15.0             16        0.446792   \n",
              "13966   24    0.21797  406641        8.0              9        0.046161   \n",
              "18617   41    0.21797  160837        6.0              7        0.079007   \n",
              "32232   31    0.21797  158545        8.0              9        0.446792   \n",
              "4686    31    0.21797   32406        9.0             10        0.446792   \n",
              "\n",
              "       occupation  relationship      race       sex  hours-per-week  \\\n",
              "35760    0.450971      0.448158  0.253828  0.303114              50   \n",
              "13966    0.262083      0.057762  0.253828  0.111512              50   \n",
              "18617    0.125060      0.102971  0.253828  0.303114              40   \n",
              "32232    0.141622      0.475000  0.253828  0.111512              27   \n",
              "4686     0.478666      0.475000  0.253828  0.111512              40   \n",
              "\n",
              "       native-country  \n",
              "35760        0.244156  \n",
              "13966        0.244156  \n",
              "18617        0.047619  \n",
              "32232        0.244156  \n",
              "4686         0.244156  "
            ],
            "text/html": [
              "\n",
              "  <div id=\"df-b13e0972-eac2-4216-a44e-8f969d9664d2\" class=\"colab-df-container\">\n",
              "    <div>\n",
              "<style scoped>\n",
              "    .dataframe tbody tr th:only-of-type {\n",
              "        vertical-align: middle;\n",
              "    }\n",
              "\n",
              "    .dataframe tbody tr th {\n",
              "        vertical-align: top;\n",
              "    }\n",
              "\n",
              "    .dataframe thead th {\n",
              "        text-align: right;\n",
              "    }\n",
              "</style>\n",
              "<table border=\"1\" class=\"dataframe\">\n",
              "  <thead>\n",
              "    <tr style=\"text-align: right;\">\n",
              "      <th></th>\n",
              "      <th>age</th>\n",
              "      <th>workclass</th>\n",
              "      <th>fnlwgt</th>\n",
              "      <th>education</th>\n",
              "      <th>education-num</th>\n",
              "      <th>marital-status</th>\n",
              "      <th>occupation</th>\n",
              "      <th>relationship</th>\n",
              "      <th>race</th>\n",
              "      <th>sex</th>\n",
              "      <th>hours-per-week</th>\n",
              "      <th>native-country</th>\n",
              "    </tr>\n",
              "  </thead>\n",
              "  <tbody>\n",
              "    <tr>\n",
              "      <th>35760</th>\n",
              "      <td>59</td>\n",
              "      <td>0.21797</td>\n",
              "      <td>146391</td>\n",
              "      <td>15.0</td>\n",
              "      <td>16</td>\n",
              "      <td>0.446792</td>\n",
              "      <td>0.450971</td>\n",
              "      <td>0.448158</td>\n",
              "      <td>0.253828</td>\n",
              "      <td>0.303114</td>\n",
              "      <td>50</td>\n",
              "      <td>0.244156</td>\n",
              "    </tr>\n",
              "    <tr>\n",
              "      <th>13966</th>\n",
              "      <td>24</td>\n",
              "      <td>0.21797</td>\n",
              "      <td>406641</td>\n",
              "      <td>8.0</td>\n",
              "      <td>9</td>\n",
              "      <td>0.046161</td>\n",
              "      <td>0.262083</td>\n",
              "      <td>0.057762</td>\n",
              "      <td>0.253828</td>\n",
              "      <td>0.111512</td>\n",
              "      <td>50</td>\n",
              "      <td>0.244156</td>\n",
              "    </tr>\n",
              "    <tr>\n",
              "      <th>18617</th>\n",
              "      <td>41</td>\n",
              "      <td>0.21797</td>\n",
              "      <td>160837</td>\n",
              "      <td>6.0</td>\n",
              "      <td>7</td>\n",
              "      <td>0.079007</td>\n",
              "      <td>0.125060</td>\n",
              "      <td>0.102971</td>\n",
              "      <td>0.253828</td>\n",
              "      <td>0.303114</td>\n",
              "      <td>40</td>\n",
              "      <td>0.047619</td>\n",
              "    </tr>\n",
              "    <tr>\n",
              "      <th>32232</th>\n",
              "      <td>31</td>\n",
              "      <td>0.21797</td>\n",
              "      <td>158545</td>\n",
              "      <td>8.0</td>\n",
              "      <td>9</td>\n",
              "      <td>0.446792</td>\n",
              "      <td>0.141622</td>\n",
              "      <td>0.475000</td>\n",
              "      <td>0.253828</td>\n",
              "      <td>0.111512</td>\n",
              "      <td>27</td>\n",
              "      <td>0.244156</td>\n",
              "    </tr>\n",
              "    <tr>\n",
              "      <th>4686</th>\n",
              "      <td>31</td>\n",
              "      <td>0.21797</td>\n",
              "      <td>32406</td>\n",
              "      <td>9.0</td>\n",
              "      <td>10</td>\n",
              "      <td>0.446792</td>\n",
              "      <td>0.478666</td>\n",
              "      <td>0.475000</td>\n",
              "      <td>0.253828</td>\n",
              "      <td>0.111512</td>\n",
              "      <td>40</td>\n",
              "      <td>0.244156</td>\n",
              "    </tr>\n",
              "  </tbody>\n",
              "</table>\n",
              "</div>\n",
              "    <div class=\"colab-df-buttons\">\n",
              "\n",
              "  <div class=\"colab-df-container\">\n",
              "    <button class=\"colab-df-convert\" onclick=\"convertToInteractive('df-b13e0972-eac2-4216-a44e-8f969d9664d2')\"\n",
              "            title=\"Convert this dataframe to an interactive table.\"\n",
              "            style=\"display:none;\">\n",
              "\n",
              "  <svg xmlns=\"http://www.w3.org/2000/svg\" height=\"24px\" viewBox=\"0 -960 960 960\">\n",
              "    <path d=\"M120-120v-720h720v720H120Zm60-500h600v-160H180v160Zm220 220h160v-160H400v160Zm0 220h160v-160H400v160ZM180-400h160v-160H180v160Zm440 0h160v-160H620v160ZM180-180h160v-160H180v160Zm440 0h160v-160H620v160Z\"/>\n",
              "  </svg>\n",
              "    </button>\n",
              "\n",
              "  <style>\n",
              "    .colab-df-container {\n",
              "      display:flex;\n",
              "      gap: 12px;\n",
              "    }\n",
              "\n",
              "    .colab-df-convert {\n",
              "      background-color: #E8F0FE;\n",
              "      border: none;\n",
              "      border-radius: 50%;\n",
              "      cursor: pointer;\n",
              "      display: none;\n",
              "      fill: #1967D2;\n",
              "      height: 32px;\n",
              "      padding: 0 0 0 0;\n",
              "      width: 32px;\n",
              "    }\n",
              "\n",
              "    .colab-df-convert:hover {\n",
              "      background-color: #E2EBFA;\n",
              "      box-shadow: 0px 1px 2px rgba(60, 64, 67, 0.3), 0px 1px 3px 1px rgba(60, 64, 67, 0.15);\n",
              "      fill: #174EA6;\n",
              "    }\n",
              "\n",
              "    .colab-df-buttons div {\n",
              "      margin-bottom: 4px;\n",
              "    }\n",
              "\n",
              "    [theme=dark] .colab-df-convert {\n",
              "      background-color: #3B4455;\n",
              "      fill: #D2E3FC;\n",
              "    }\n",
              "\n",
              "    [theme=dark] .colab-df-convert:hover {\n",
              "      background-color: #434B5C;\n",
              "      box-shadow: 0px 1px 3px 1px rgba(0, 0, 0, 0.15);\n",
              "      filter: drop-shadow(0px 1px 2px rgba(0, 0, 0, 0.3));\n",
              "      fill: #FFFFFF;\n",
              "    }\n",
              "  </style>\n",
              "\n",
              "    <script>\n",
              "      const buttonEl =\n",
              "        document.querySelector('#df-b13e0972-eac2-4216-a44e-8f969d9664d2 button.colab-df-convert');\n",
              "      buttonEl.style.display =\n",
              "        google.colab.kernel.accessAllowed ? 'block' : 'none';\n",
              "\n",
              "      async function convertToInteractive(key) {\n",
              "        const element = document.querySelector('#df-b13e0972-eac2-4216-a44e-8f969d9664d2');\n",
              "        const dataTable =\n",
              "          await google.colab.kernel.invokeFunction('convertToInteractive',\n",
              "                                                    [key], {});\n",
              "        if (!dataTable) return;\n",
              "\n",
              "        const docLinkHtml = 'Like what you see? Visit the ' +\n",
              "          '<a target=\"_blank\" href=https://colab.research.google.com/notebooks/data_table.ipynb>data table notebook</a>'\n",
              "          + ' to learn more about interactive tables.';\n",
              "        element.innerHTML = '';\n",
              "        dataTable['output_type'] = 'display_data';\n",
              "        await google.colab.output.renderOutput(dataTable, element);\n",
              "        const docLink = document.createElement('div');\n",
              "        docLink.innerHTML = docLinkHtml;\n",
              "        element.appendChild(docLink);\n",
              "      }\n",
              "    </script>\n",
              "  </div>\n",
              "\n",
              "\n",
              "    <div id=\"df-54e4d422-6ad9-4750-9fab-19a63ad5933a\">\n",
              "      <button class=\"colab-df-quickchart\" onclick=\"quickchart('df-54e4d422-6ad9-4750-9fab-19a63ad5933a')\"\n",
              "                title=\"Suggest charts\"\n",
              "                style=\"display:none;\">\n",
              "\n",
              "<svg xmlns=\"http://www.w3.org/2000/svg\" height=\"24px\"viewBox=\"0 0 24 24\"\n",
              "     width=\"24px\">\n",
              "    <g>\n",
              "        <path d=\"M19 3H5c-1.1 0-2 .9-2 2v14c0 1.1.9 2 2 2h14c1.1 0 2-.9 2-2V5c0-1.1-.9-2-2-2zM9 17H7v-7h2v7zm4 0h-2V7h2v10zm4 0h-2v-4h2v4z\"/>\n",
              "    </g>\n",
              "</svg>\n",
              "      </button>\n",
              "\n",
              "<style>\n",
              "  .colab-df-quickchart {\n",
              "      --bg-color: #E8F0FE;\n",
              "      --fill-color: #1967D2;\n",
              "      --hover-bg-color: #E2EBFA;\n",
              "      --hover-fill-color: #174EA6;\n",
              "      --disabled-fill-color: #AAA;\n",
              "      --disabled-bg-color: #DDD;\n",
              "  }\n",
              "\n",
              "  [theme=dark] .colab-df-quickchart {\n",
              "      --bg-color: #3B4455;\n",
              "      --fill-color: #D2E3FC;\n",
              "      --hover-bg-color: #434B5C;\n",
              "      --hover-fill-color: #FFFFFF;\n",
              "      --disabled-bg-color: #3B4455;\n",
              "      --disabled-fill-color: #666;\n",
              "  }\n",
              "\n",
              "  .colab-df-quickchart {\n",
              "    background-color: var(--bg-color);\n",
              "    border: none;\n",
              "    border-radius: 50%;\n",
              "    cursor: pointer;\n",
              "    display: none;\n",
              "    fill: var(--fill-color);\n",
              "    height: 32px;\n",
              "    padding: 0;\n",
              "    width: 32px;\n",
              "  }\n",
              "\n",
              "  .colab-df-quickchart:hover {\n",
              "    background-color: var(--hover-bg-color);\n",
              "    box-shadow: 0 1px 2px rgba(60, 64, 67, 0.3), 0 1px 3px 1px rgba(60, 64, 67, 0.15);\n",
              "    fill: var(--button-hover-fill-color);\n",
              "  }\n",
              "\n",
              "  .colab-df-quickchart-complete:disabled,\n",
              "  .colab-df-quickchart-complete:disabled:hover {\n",
              "    background-color: var(--disabled-bg-color);\n",
              "    fill: var(--disabled-fill-color);\n",
              "    box-shadow: none;\n",
              "  }\n",
              "\n",
              "  .colab-df-spinner {\n",
              "    border: 2px solid var(--fill-color);\n",
              "    border-color: transparent;\n",
              "    border-bottom-color: var(--fill-color);\n",
              "    animation:\n",
              "      spin 1s steps(1) infinite;\n",
              "  }\n",
              "\n",
              "  @keyframes spin {\n",
              "    0% {\n",
              "      border-color: transparent;\n",
              "      border-bottom-color: var(--fill-color);\n",
              "      border-left-color: var(--fill-color);\n",
              "    }\n",
              "    20% {\n",
              "      border-color: transparent;\n",
              "      border-left-color: var(--fill-color);\n",
              "      border-top-color: var(--fill-color);\n",
              "    }\n",
              "    30% {\n",
              "      border-color: transparent;\n",
              "      border-left-color: var(--fill-color);\n",
              "      border-top-color: var(--fill-color);\n",
              "      border-right-color: var(--fill-color);\n",
              "    }\n",
              "    40% {\n",
              "      border-color: transparent;\n",
              "      border-right-color: var(--fill-color);\n",
              "      border-top-color: var(--fill-color);\n",
              "    }\n",
              "    60% {\n",
              "      border-color: transparent;\n",
              "      border-right-color: var(--fill-color);\n",
              "    }\n",
              "    80% {\n",
              "      border-color: transparent;\n",
              "      border-right-color: var(--fill-color);\n",
              "      border-bottom-color: var(--fill-color);\n",
              "    }\n",
              "    90% {\n",
              "      border-color: transparent;\n",
              "      border-bottom-color: var(--fill-color);\n",
              "    }\n",
              "  }\n",
              "</style>\n",
              "\n",
              "      <script>\n",
              "        async function quickchart(key) {\n",
              "          const quickchartButtonEl =\n",
              "            document.querySelector('#' + key + ' button');\n",
              "          quickchartButtonEl.disabled = true;  // To prevent multiple clicks.\n",
              "          quickchartButtonEl.classList.add('colab-df-spinner');\n",
              "          try {\n",
              "            const charts = await google.colab.kernel.invokeFunction(\n",
              "                'suggestCharts', [key], {});\n",
              "          } catch (error) {\n",
              "            console.error('Error during call to suggestCharts:', error);\n",
              "          }\n",
              "          quickchartButtonEl.classList.remove('colab-df-spinner');\n",
              "          quickchartButtonEl.classList.add('colab-df-quickchart-complete');\n",
              "        }\n",
              "        (() => {\n",
              "          let quickchartButtonEl =\n",
              "            document.querySelector('#df-54e4d422-6ad9-4750-9fab-19a63ad5933a button');\n",
              "          quickchartButtonEl.style.display =\n",
              "            google.colab.kernel.accessAllowed ? 'block' : 'none';\n",
              "        })();\n",
              "      </script>\n",
              "    </div>\n",
              "\n",
              "    </div>\n",
              "  </div>\n"
            ],
            "application/vnd.google.colaboratory.intrinsic+json": {
              "type": "dataframe",
              "variable_name": "X_train",
              "summary": "{\n  \"name\": \"X_train\",\n  \"rows\": 34153,\n  \"fields\": [\n    {\n      \"column\": \"age\",\n      \"properties\": {\n        \"dtype\": \"number\",\n        \"std\": 13,\n        \"min\": 17,\n        \"max\": 90,\n        \"num_unique_values\": 74,\n        \"samples\": [\n          55,\n          70,\n          37\n        ],\n        \"semantic_type\": \"\",\n        \"description\": \"\"\n      }\n    },\n    {\n      \"column\": \"workclass\",\n      \"properties\": {\n        \"dtype\": \"number\",\n        \"std\": 0.07672731281690759,\n        \"min\": 0.09399477806788512,\n        \"max\": 0.5491379310344827,\n        \"num_unique_values\": 9,\n        \"samples\": [\n          0.23942259830761572,\n          0.27623285131627734,\n          0.2929564827276806\n        ],\n        \"semantic_type\": \"\",\n        \"description\": \"\"\n      }\n    },\n    {\n      \"column\": \"fnlwgt\",\n      \"properties\": {\n        \"dtype\": \"number\",\n        \"std\": 105387,\n        \"min\": 12285,\n        \"max\": 1490400,\n        \"num_unique_values\": 22448,\n        \"samples\": [\n          90730,\n          78507,\n          119254\n        ],\n        \"semantic_type\": \"\",\n        \"description\": \"\"\n      }\n    },\n    {\n      \"column\": \"education\",\n      \"properties\": {\n        \"dtype\": \"number\",\n        \"std\": 2.566909374108741,\n        \"min\": 0.0,\n        \"max\": 15.0,\n        \"num_unique_values\": 16,\n        \"samples\": [\n          15.0,\n          8.0,\n          5.0\n        ],\n        \"semantic_type\": \"\",\n        \"description\": \"\"\n      }\n    },\n    {\n      \"column\": \"education-num\",\n      \"properties\": {\n        \"dtype\": \"number\",\n        \"std\": 2,\n        \"min\": 1,\n        \"max\": 16,\n        \"num_unique_values\": 16,\n        \"samples\": [\n          16,\n          9,\n          6\n        ],\n        \"semantic_type\": \"\",\n        \"description\": \"\"\n      }\n    },\n    {\n      \"column\": \"marital-status\",\n      \"properties\": {\n        \"dtype\": \"number\",\n        \"std\": 0.19130945592907986,\n        \"min\": 0.0461606746560142,\n        \"max\": 0.4467921628889743,\n        \"num_unique_values\": 7,\n        \"samples\": [\n          0.4467921628889743,\n          0.0461606746560142,\n          0.08760484622553588\n        ],\n        \"semantic_type\": \"\",\n        \"description\": \"\"\n      }\n    },\n    {\n      \"column\": \"occupation\",\n      \"properties\": {\n        \"dtype\": \"number\",\n        \"std\": 0.1487745310284891,\n        \"min\": 0.011764705882352941,\n        \"max\": 0.47866635579389133,\n        \"num_unique_values\": 15,\n        \"samples\": [\n          0.22243034418169047,\n          0.20059347181008902,\n          0.4509713228492137\n        ],\n        \"semantic_type\": \"\",\n        \"description\": \"\"\n      }\n    },\n    {\n      \"column\": \"relationship\",\n      \"properties\": {\n        \"dtype\": \"number\",\n        \"std\": 0.19393064893370288,\n        \"min\": 0.014708655478031303,\n        \"max\": 0.475,\n        \"num_unique_values\": 6,\n        \"samples\": [\n          0.4481581050643028,\n          0.05776173285198556,\n          0.014708655478031303\n        ],\n        \"semantic_type\": \"\",\n        \"description\": \"\"\n      }\n    },\n    {\n      \"column\": \"race\",\n      \"properties\": {\n        \"dtype\": \"number\",\n        \"std\": 0.04098204557976023,\n        \"min\": 0.12186379928315412,\n        \"max\": 0.26135310472659873,\n        \"num_unique_values\": 5,\n        \"samples\": [\n          0.1251908396946565,\n          0.12186379928315412,\n          0.26135310472659873\n        ],\n        \"semantic_type\": \"\",\n        \"description\": \"\"\n      }\n    },\n    {\n      \"column\": \"sex\",\n      \"properties\": {\n        \"dtype\": \"number\",\n        \"std\": 0.09026086864788053,\n        \"min\": 0.1115123755835462,\n        \"max\": 0.3031140350877193,\n        \"num_unique_values\": 2,\n        \"samples\": [\n          0.1115123755835462,\n          0.3031140350877193\n        ],\n        \"semantic_type\": \"\",\n        \"description\": \"\"\n      }\n    },\n    {\n      \"column\": \"hours-per-week\",\n      \"properties\": {\n        \"dtype\": \"number\",\n        \"std\": 12,\n        \"min\": 1,\n        \"max\": 99,\n        \"num_unique_values\": 92,\n        \"samples\": [\n          6,\n          42\n        ],\n        \"semantic_type\": \"\",\n        \"description\": \"\"\n      }\n    },\n    {\n      \"column\": \"native-country\",\n      \"properties\": {\n        \"dtype\": \"number\",\n        \"std\": 0.04063538600395766,\n        \"min\": 0.028985507246376812,\n        \"max\": 0.4814814814636829,\n        \"num_unique_values\": 42,\n        \"samples\": [\n          0.4814814814636829,\n          0.31451612903225806\n        ],\n        \"semantic_type\": \"\",\n        \"description\": \"\"\n      }\n    }\n  ]\n}"
            }
          },
          "metadata": {},
          "execution_count": 17
        }
      ]
    },
    {
      "cell_type": "code",
      "source": [
        "#Scaling:\n",
        "\n",
        "#handle skewed data:\n",
        "skewed_cols=cols=['fnlwgt','age']\n",
        "pt=PowerTransformer(method='yeo-johnson')\n",
        "X_train[skewed_cols]= pt.fit_transform(X_train[skewed_cols])\n",
        "X_val[skewed_cols]=pt.transform(X_val[skewed_cols])\n",
        "X_test[skewed_cols]=pt.transform(X_test[skewed_cols])\n",
        "\n",
        "#standrize other cols:\n",
        "other_num_cols = df.select_dtypes(include=['int64']).columns\n",
        "scaler = StandardScaler()\n",
        "X_train[other_num_cols] = scaler.fit_transform(X_train[other_num_cols])\n",
        "X_val[other_num_cols]  = scaler.transform(X_val[other_num_cols])\n",
        "X_test[other_num_cols] = scaler.transform(X_test[other_num_cols])"
      ],
      "metadata": {
        "id": "qhLkQzCEZGnS"
      },
      "execution_count": null,
      "outputs": []
    },
    {
      "cell_type": "code",
      "source": [
        "def evaluate_model(model, X_train, y_train,X_val,y_val, X_test, y_test):\n",
        "    model.fit(X_train, y_train)\n",
        "    train_acc = accuracy_score(y_train, model.predict(X_train))\n",
        "    val_acc=accuracy_score(y_val, model.predict(X_val))\n",
        "    test_acc=accuracy_score(y_test, model.predict(X_test))\n",
        "    return train_acc, val_acc, test_acc\n"
      ],
      "metadata": {
        "id": "1l4PghcJZGkR"
      },
      "execution_count": null,
      "outputs": []
    },
    {
      "cell_type": "code",
      "source": [
        "results = []\n",
        "#Logistic Regression\n",
        "log_reg = LogisticRegression(max_iter=1000,class_weight=\"balanced\", random_state=42)\n",
        "results.append([\"Logistic Regression\", *evaluate_model(log_reg, X_train, y_train, X_val, y_val, X_test, y_test)])\n",
        "#Random Forest\n",
        "rf = RandomForestClassifier(n_estimators=200,class_weight=\"balanced\",max_depth=10,min_samples_leaf=5, random_state=42)\n",
        "results.append([\"Random Forest\", *evaluate_model(rf, X_train, y_train, X_val, y_val, X_test, y_test)])\n",
        "#XGBoost\n",
        "ratio=len(y_train[y_train==0]) / len(y_train[y_train==1])\n",
        "xgb_clf = XGBClassifier(n_estimators=100, learning_rate=0.1,scale_pos_weight=ratio, random_state=42)\n",
        "results.append([\"XGBoost\", *evaluate_model(xgb_clf, X_train, y_train, X_val, y_val, X_test, y_test)])"
      ],
      "metadata": {
        "id": "_9wwyrBeZGiA"
      },
      "execution_count": null,
      "outputs": []
    },
    {
      "cell_type": "code",
      "source": [
        "df_results = pd.DataFrame(results, columns=[\"Model\",\"Train Acc\",\"Val Acc\",\"Test Acc\"])\n",
        "print(df_results)"
      ],
      "metadata": {
        "id": "s5aXYkN1ZGf2",
        "colab": {
          "base_uri": "https://localhost:8080/"
        },
        "outputId": "45a1f2c2-8671-4a38-9931-cd54f975fe24"
      },
      "execution_count": null,
      "outputs": [
        {
          "output_type": "stream",
          "name": "stdout",
          "text": [
            "                 Model  Train Acc   Val Acc  Test Acc\n",
            "0  Logistic Regression   0.785114  0.785324  0.788632\n",
            "1        Random Forest   0.807074  0.788467  0.797923\n",
            "2              XGBoost   0.816619  0.792156  0.801476\n"
          ]
        }
      ]
    },
    {
      "cell_type": "markdown",
      "source": [
        "- best performer:  XGBoost"
      ],
      "metadata": {
        "id": "AOij-t-i39BV"
      }
    },
    {
      "cell_type": "code",
      "source": [],
      "metadata": {
        "id": "Qt7LFFb6ZGdt"
      },
      "execution_count": null,
      "outputs": []
    },
    {
      "cell_type": "markdown",
      "source": [
        "\n",
        "## Part 1: Optimizers\n",
        "1. Train the same neural network using:\n",
        "   - Stochastic Gradient Descent (SGD)\n",
        "   - SGD with Momentum\n",
        "   - Adam\n",
        "2. Compare the training and validation accuracy for each optimizer.\n",
        "3. Which optimizer converges the fastest? Which gives the best generalization?\n",
        "4. Explain *why* Adam often performs better than plain SGD.\n",
        "\n",
        "---\n"
      ],
      "metadata": {
        "id": "LPpltt4ZG3fN"
      }
    },
    {
      "cell_type": "code",
      "source": [
        "import tensorflow as tf\n",
        "from tensorflow.keras import layers, models, regularizers, callbacks, optimizers, losses, metrics, utils\n",
        "from sklearn.datasets import make_classification\n",
        "from sklearn.model_selection import train_test_split\n",
        "from tensorflow.keras.models import Sequential\n",
        "from tensorflow.keras.layers import Dense\n",
        "from tensorflow.keras.optimizers import SGD\n",
        "from keras.callbacks import EarlyStopping\n",
        "from tensorflow.keras.optimizers import Adam\n",
        "from keras import regularizers\n",
        "from keras.layers import Dropout\n",
        "import matplotlib.pyplot as plt\n",
        "\n"
      ],
      "metadata": {
        "id": "wnoISz2rHMJ0"
      },
      "execution_count": 36,
      "outputs": []
    },
    {
      "cell_type": "code",
      "source": [],
      "metadata": {
        "id": "1VZv1olBmyzQ"
      },
      "execution_count": null,
      "outputs": []
    },
    {
      "cell_type": "code",
      "source": [
        "model = Sequential()\n",
        "model.add(Dense(64, activation='relu', input_shape=(12,)))\n",
        "model.add(Dense(1, activation='sigmoid'))\n",
        "#compile the model using SGD\n",
        "optimizer = SGD(learning_rate=0.01)\n",
        "model.compile(optimizer=optimizer, loss='binary_crossentropy', metrics=['accuracy'])\n",
        "#early stop\n",
        "early_stop = EarlyStopping(monitor='val_loss', patience=5, restore_best_weights=True)\n",
        "\n",
        "# Train\n",
        "history = model.fit(X_train, y_train, validation_data=(X_val, y_val), epochs=30, batch_size=16,callbacks=[early_stop])\n",
        "# Output the result after training\n",
        "train_acc = history.history['accuracy'][-1]\n",
        "val_acc = history.history['val_accuracy'][-1]\n",
        "test_acc = model.evaluate(X_test, y_test, verbose=0)[1]\n",
        "print(f\"Finished in {len(history.epoch)} epochs\")\n",
        "print(f\"Train Acc = {train_acc:.4f}, Val Acc = {val_acc:.4f}, Test Acc = {test_acc:.4f}\")\n"
      ],
      "metadata": {
        "colab": {
          "base_uri": "https://localhost:8080/"
        },
        "id": "2CBClETA8gBV",
        "outputId": "21c0296b-04a7-4943-94ad-e96aef782f4c"
      },
      "execution_count": null,
      "outputs": [
        {
          "output_type": "stream",
          "name": "stdout",
          "text": [
            "Epoch 1/30\n"
          ]
        },
        {
          "output_type": "stream",
          "name": "stderr",
          "text": [
            "/usr/local/lib/python3.12/dist-packages/keras/src/layers/core/dense.py:93: UserWarning: Do not pass an `input_shape`/`input_dim` argument to a layer. When using Sequential models, prefer using an `Input(shape)` object as the first layer in the model instead.\n",
            "  super().__init__(activity_regularizer=activity_regularizer, **kwargs)\n"
          ]
        },
        {
          "output_type": "stream",
          "name": "stdout",
          "text": [
            "\u001b[1m2135/2135\u001b[0m \u001b[32m━━━━━━━━━━━━━━━━━━━━\u001b[0m\u001b[37m\u001b[0m \u001b[1m6s\u001b[0m 2ms/step - accuracy: 0.7752 - loss: 0.4752 - val_accuracy: 0.8172 - val_loss: 0.3937\n",
            "Epoch 2/30\n",
            "\u001b[1m2135/2135\u001b[0m \u001b[32m━━━━━━━━━━━━━━━━━━━━\u001b[0m\u001b[37m\u001b[0m \u001b[1m10s\u001b[0m 2ms/step - accuracy: 0.8156 - loss: 0.3883 - val_accuracy: 0.8203 - val_loss: 0.3703\n",
            "Epoch 3/30\n",
            "\u001b[1m2135/2135\u001b[0m \u001b[32m━━━━━━━━━━━━━━━━━━━━\u001b[0m\u001b[37m\u001b[0m \u001b[1m5s\u001b[0m 2ms/step - accuracy: 0.8219 - loss: 0.3696 - val_accuracy: 0.8282 - val_loss: 0.3616\n",
            "Epoch 4/30\n",
            "\u001b[1m2135/2135\u001b[0m \u001b[32m━━━━━━━━━━━━━━━━━━━━\u001b[0m\u001b[37m\u001b[0m \u001b[1m10s\u001b[0m 2ms/step - accuracy: 0.8236 - loss: 0.3675 - val_accuracy: 0.8295 - val_loss: 0.3558\n",
            "Epoch 5/30\n",
            "\u001b[1m2135/2135\u001b[0m \u001b[32m━━━━━━━━━━━━━━━━━━━━\u001b[0m\u001b[37m\u001b[0m \u001b[1m6s\u001b[0m 3ms/step - accuracy: 0.8269 - loss: 0.3599 - val_accuracy: 0.8330 - val_loss: 0.3571\n",
            "Epoch 6/30\n",
            "\u001b[1m2135/2135\u001b[0m \u001b[32m━━━━━━━━━━━━━━━━━━━━\u001b[0m\u001b[37m\u001b[0m \u001b[1m5s\u001b[0m 2ms/step - accuracy: 0.8253 - loss: 0.3635 - val_accuracy: 0.7958 - val_loss: 0.4074\n",
            "Epoch 7/30\n",
            "\u001b[1m2135/2135\u001b[0m \u001b[32m━━━━━━━━━━━━━━━━━━━━\u001b[0m\u001b[37m\u001b[0m \u001b[1m7s\u001b[0m 3ms/step - accuracy: 0.8287 - loss: 0.3560 - val_accuracy: 0.8340 - val_loss: 0.3593\n",
            "Epoch 8/30\n",
            "\u001b[1m2135/2135\u001b[0m \u001b[32m━━━━━━━━━━━━━━━━━━━━\u001b[0m\u001b[37m\u001b[0m \u001b[1m4s\u001b[0m 2ms/step - accuracy: 0.8306 - loss: 0.3576 - val_accuracy: 0.8122 - val_loss: 0.3843\n",
            "Epoch 9/30\n",
            "\u001b[1m2135/2135\u001b[0m \u001b[32m━━━━━━━━━━━━━━━━━━━━\u001b[0m\u001b[37m\u001b[0m \u001b[1m8s\u001b[0m 3ms/step - accuracy: 0.8255 - loss: 0.3614 - val_accuracy: 0.8332 - val_loss: 0.3576\n",
            "Finished in 9 epochs\n",
            "Train Acc = 0.8286, Val Acc = 0.8332, Test Acc = 0.8333\n"
          ]
        }
      ]
    },
    {
      "cell_type": "code",
      "source": [
        "#SGD with Momentum\n",
        "m_model = Sequential()\n",
        "m_model.add(Dense(64, activation='relu', input_shape=(12,)))\n",
        "m_model.add(Dense(1, activation='sigmoid'))\n",
        "#compile the model using SGD\n",
        "optimizer = SGD(learning_rate=0.01, momentum=0.9)\n",
        "m_model.compile(optimizer=optimizer, loss='binary_crossentropy', metrics=['accuracy'])\n",
        "#early stop\n",
        "early_stop = EarlyStopping(monitor='val_loss', patience=5, restore_best_weights=True)\n",
        "\n",
        "# Train\n",
        "history = m_model.fit(X_train, y_train, validation_data=(X_val, y_val), epochs=30, batch_size=16,callbacks=[early_stop])\n",
        "# Output the result after training\n",
        "train_acc = history.history['accuracy'][-1]\n",
        "val_acc = history.history['val_accuracy'][-1]\n",
        "test_acc = m_model.evaluate(X_test, y_test, verbose=0)[1]\n",
        "print(f\"Finished in {len(history.epoch)} epochs\")\n",
        "print(f\"Train Acc = {train_acc:.4f}, Val Acc = {val_acc:.4f}, Test Acc = {test_acc:.4f}\")\n"
      ],
      "metadata": {
        "colab": {
          "base_uri": "https://localhost:8080/"
        },
        "id": "2YUoaYID8f39",
        "outputId": "09065ada-2bd0-4b78-956e-c306e55716e9"
      },
      "execution_count": null,
      "outputs": [
        {
          "output_type": "stream",
          "name": "stdout",
          "text": [
            "Epoch 1/30\n"
          ]
        },
        {
          "output_type": "stream",
          "name": "stderr",
          "text": [
            "/usr/local/lib/python3.12/dist-packages/keras/src/layers/core/dense.py:93: UserWarning: Do not pass an `input_shape`/`input_dim` argument to a layer. When using Sequential models, prefer using an `Input(shape)` object as the first layer in the model instead.\n",
            "  super().__init__(activity_regularizer=activity_regularizer, **kwargs)\n"
          ]
        },
        {
          "output_type": "stream",
          "name": "stdout",
          "text": [
            "\u001b[1m2135/2135\u001b[0m \u001b[32m━━━━━━━━━━━━━━━━━━━━\u001b[0m\u001b[37m\u001b[0m \u001b[1m7s\u001b[0m 3ms/step - accuracy: 0.7988 - loss: 0.4259 - val_accuracy: 0.8165 - val_loss: 0.3756\n",
            "Epoch 2/30\n",
            "\u001b[1m2135/2135\u001b[0m \u001b[32m━━━━━━━━━━━━━━━━━━━━\u001b[0m\u001b[37m\u001b[0m \u001b[1m5s\u001b[0m 2ms/step - accuracy: 0.8165 - loss: 0.3765 - val_accuracy: 0.8204 - val_loss: 0.3817\n",
            "Epoch 3/30\n",
            "\u001b[1m2135/2135\u001b[0m \u001b[32m━━━━━━━━━━━━━━━━━━━━\u001b[0m\u001b[37m\u001b[0m \u001b[1m11s\u001b[0m 3ms/step - accuracy: 0.8200 - loss: 0.3697 - val_accuracy: 0.8218 - val_loss: 0.3717\n",
            "Epoch 4/30\n",
            "\u001b[1m2135/2135\u001b[0m \u001b[32m━━━━━━━━━━━━━━━━━━━━\u001b[0m\u001b[37m\u001b[0m \u001b[1m10s\u001b[0m 3ms/step - accuracy: 0.8226 - loss: 0.3664 - val_accuracy: 0.8303 - val_loss: 0.3583\n",
            "Epoch 5/30\n",
            "\u001b[1m2135/2135\u001b[0m \u001b[32m━━━━━━━━━━━━━━━━━━━━\u001b[0m\u001b[37m\u001b[0m \u001b[1m10s\u001b[0m 3ms/step - accuracy: 0.8261 - loss: 0.3627 - val_accuracy: 0.8236 - val_loss: 0.3618\n",
            "Epoch 6/30\n",
            "\u001b[1m2135/2135\u001b[0m \u001b[32m━━━━━━━━━━━━━━━━━━━━\u001b[0m\u001b[37m\u001b[0m \u001b[1m10s\u001b[0m 2ms/step - accuracy: 0.8277 - loss: 0.3610 - val_accuracy: 0.8226 - val_loss: 0.3683\n",
            "Epoch 7/30\n",
            "\u001b[1m2135/2135\u001b[0m \u001b[32m━━━━━━━━━━━━━━━━━━━━\u001b[0m\u001b[37m\u001b[0m \u001b[1m7s\u001b[0m 3ms/step - accuracy: 0.8259 - loss: 0.3613 - val_accuracy: 0.7749 - val_loss: 0.4267\n",
            "Epoch 8/30\n",
            "\u001b[1m2135/2135\u001b[0m \u001b[32m━━━━━━━━━━━━━━━━━━━━\u001b[0m\u001b[37m\u001b[0m \u001b[1m9s\u001b[0m 3ms/step - accuracy: 0.8255 - loss: 0.3637 - val_accuracy: 0.8303 - val_loss: 0.3652\n",
            "Epoch 9/30\n",
            "\u001b[1m2135/2135\u001b[0m \u001b[32m━━━━━━━━━━━━━━━━━━━━\u001b[0m\u001b[37m\u001b[0m \u001b[1m10s\u001b[0m 2ms/step - accuracy: 0.8305 - loss: 0.3585 - val_accuracy: 0.8091 - val_loss: 0.3873\n",
            "Finished in 9 epochs\n",
            "Train Acc = 0.8294, Val Acc = 0.8091, Test Acc = 0.8358\n"
          ]
        }
      ]
    },
    {
      "cell_type": "code",
      "source": [
        "# Adam\n",
        "adm_model=Sequential()\n",
        "adm_model.add(Dense(64, activation='relu', input_shape=(12,)))\n",
        "adm_model.add(Dense(1, activation='sigmoid'))\n",
        "#compile the model using SGD\n",
        "optimizer = Adam(learning_rate=0.001)\n",
        "adm_model.compile(optimizer=optimizer, loss='binary_crossentropy', metrics=['accuracy'])\n",
        "#early stop\n",
        "early_stop = EarlyStopping(monitor='val_loss', patience=5, restore_best_weights=True)\n",
        "\n",
        "# Train\n",
        "history = adm_model.fit(X_train, y_train, validation_data=(X_val, y_val), epochs=30, batch_size=16,callbacks=[early_stop])\n",
        "# Output the result after training\n",
        "train_acc = history.history['accuracy'][-1]\n",
        "val_acc = history.history['val_accuracy'][-1]\n",
        "train_acc = history.history['accuracy'][-1]\n",
        "\n",
        "print(f\"Adam finished in {len(history.epoch)} epochs\")\n",
        "print(f\"Train Acc = {train_acc:.4f}, Val Acc = {val_acc:.4f}, Test Acc = {test_acc:.4f}\")"
      ],
      "metadata": {
        "colab": {
          "base_uri": "https://localhost:8080/"
        },
        "id": "_CA7_Eic8f0S",
        "outputId": "a1aaac37-1495-4139-b286-3de9d47a6251"
      },
      "execution_count": null,
      "outputs": [
        {
          "output_type": "stream",
          "name": "stdout",
          "text": [
            "Epoch 1/30\n"
          ]
        },
        {
          "output_type": "stream",
          "name": "stderr",
          "text": [
            "/usr/local/lib/python3.12/dist-packages/keras/src/layers/core/dense.py:93: UserWarning: Do not pass an `input_shape`/`input_dim` argument to a layer. When using Sequential models, prefer using an `Input(shape)` object as the first layer in the model instead.\n",
            "  super().__init__(activity_regularizer=activity_regularizer, **kwargs)\n"
          ]
        },
        {
          "output_type": "stream",
          "name": "stdout",
          "text": [
            "\u001b[1m2135/2135\u001b[0m \u001b[32m━━━━━━━━━━━━━━━━━━━━\u001b[0m\u001b[37m\u001b[0m \u001b[1m8s\u001b[0m 3ms/step - accuracy: 0.7758 - loss: 0.4490 - val_accuracy: 0.8312 - val_loss: 0.3559\n",
            "Epoch 2/30\n",
            "\u001b[1m2135/2135\u001b[0m \u001b[32m━━━━━━━━━━━━━━━━━━━━\u001b[0m\u001b[37m\u001b[0m \u001b[1m10s\u001b[0m 3ms/step - accuracy: 0.8276 - loss: 0.3576 - val_accuracy: 0.8307 - val_loss: 0.3567\n",
            "Epoch 3/30\n",
            "\u001b[1m2135/2135\u001b[0m \u001b[32m━━━━━━━━━━━━━━━━━━━━\u001b[0m\u001b[37m\u001b[0m \u001b[1m6s\u001b[0m 3ms/step - accuracy: 0.8373 - loss: 0.3463 - val_accuracy: 0.8273 - val_loss: 0.3583\n",
            "Epoch 4/30\n",
            "\u001b[1m2135/2135\u001b[0m \u001b[32m━━━━━━━━━━━━━━━━━━━━\u001b[0m\u001b[37m\u001b[0m \u001b[1m6s\u001b[0m 3ms/step - accuracy: 0.8354 - loss: 0.3494 - val_accuracy: 0.8344 - val_loss: 0.3541\n",
            "Epoch 5/30\n",
            "\u001b[1m2135/2135\u001b[0m \u001b[32m━━━━━━━━━━━━━━━━━━━━\u001b[0m\u001b[37m\u001b[0m \u001b[1m5s\u001b[0m 3ms/step - accuracy: 0.8307 - loss: 0.3534 - val_accuracy: 0.8315 - val_loss: 0.3545\n",
            "Epoch 6/30\n",
            "\u001b[1m2135/2135\u001b[0m \u001b[32m━━━━━━━━━━━━━━━━━━━━\u001b[0m\u001b[37m\u001b[0m \u001b[1m6s\u001b[0m 3ms/step - accuracy: 0.8354 - loss: 0.3499 - val_accuracy: 0.8334 - val_loss: 0.3527\n",
            "Epoch 7/30\n",
            "\u001b[1m2135/2135\u001b[0m \u001b[32m━━━━━━━━━━━━━━━━━━━━\u001b[0m\u001b[37m\u001b[0m \u001b[1m9s\u001b[0m 2ms/step - accuracy: 0.8332 - loss: 0.3548 - val_accuracy: 0.8267 - val_loss: 0.3635\n",
            "Epoch 8/30\n",
            "\u001b[1m2135/2135\u001b[0m \u001b[32m━━━━━━━━━━━━━━━━━━━━\u001b[0m\u001b[37m\u001b[0m \u001b[1m7s\u001b[0m 3ms/step - accuracy: 0.8354 - loss: 0.3509 - val_accuracy: 0.8341 - val_loss: 0.3530\n",
            "Epoch 9/30\n",
            "\u001b[1m2135/2135\u001b[0m \u001b[32m━━━━━━━━━━━━━━━━━━━━\u001b[0m\u001b[37m\u001b[0m \u001b[1m5s\u001b[0m 2ms/step - accuracy: 0.8379 - loss: 0.3428 - val_accuracy: 0.8352 - val_loss: 0.3516\n",
            "Epoch 10/30\n",
            "\u001b[1m2135/2135\u001b[0m \u001b[32m━━━━━━━━━━━━━━━━━━━━\u001b[0m\u001b[37m\u001b[0m \u001b[1m10s\u001b[0m 3ms/step - accuracy: 0.8363 - loss: 0.3467 - val_accuracy: 0.8338 - val_loss: 0.3528\n",
            "Epoch 11/30\n",
            "\u001b[1m2135/2135\u001b[0m \u001b[32m━━━━━━━━━━━━━━━━━━━━\u001b[0m\u001b[37m\u001b[0m \u001b[1m10s\u001b[0m 2ms/step - accuracy: 0.8394 - loss: 0.3437 - val_accuracy: 0.8325 - val_loss: 0.3515\n",
            "Epoch 12/30\n",
            "\u001b[1m2135/2135\u001b[0m \u001b[32m━━━━━━━━━━━━━━━━━━━━\u001b[0m\u001b[37m\u001b[0m \u001b[1m5s\u001b[0m 2ms/step - accuracy: 0.8339 - loss: 0.3484 - val_accuracy: 0.8329 - val_loss: 0.3517\n",
            "Epoch 13/30\n",
            "\u001b[1m2135/2135\u001b[0m \u001b[32m━━━━━━━━━━━━━━━━━━━━\u001b[0m\u001b[37m\u001b[0m \u001b[1m11s\u001b[0m 3ms/step - accuracy: 0.8355 - loss: 0.3454 - val_accuracy: 0.8333 - val_loss: 0.3534\n",
            "Epoch 14/30\n",
            "\u001b[1m2135/2135\u001b[0m \u001b[32m━━━━━━━━━━━━━━━━━━━━\u001b[0m\u001b[37m\u001b[0m \u001b[1m10s\u001b[0m 2ms/step - accuracy: 0.8346 - loss: 0.3471 - val_accuracy: 0.8337 - val_loss: 0.3522\n",
            "Epoch 15/30\n",
            "\u001b[1m2135/2135\u001b[0m \u001b[32m━━━━━━━━━━━━━━━━━━━━\u001b[0m\u001b[37m\u001b[0m \u001b[1m6s\u001b[0m 3ms/step - accuracy: 0.8377 - loss: 0.3427 - val_accuracy: 0.8314 - val_loss: 0.3521\n",
            "Epoch 16/30\n",
            "\u001b[1m2135/2135\u001b[0m \u001b[32m━━━━━━━━━━━━━━━━━━━━\u001b[0m\u001b[37m\u001b[0m \u001b[1m6s\u001b[0m 3ms/step - accuracy: 0.8385 - loss: 0.3439 - val_accuracy: 0.8348 - val_loss: 0.3492\n",
            "Epoch 17/30\n",
            "\u001b[1m2135/2135\u001b[0m \u001b[32m━━━━━━━━━━━━━━━━━━━━\u001b[0m\u001b[37m\u001b[0m \u001b[1m10s\u001b[0m 3ms/step - accuracy: 0.8322 - loss: 0.3486 - val_accuracy: 0.8334 - val_loss: 0.3501\n",
            "Epoch 18/30\n",
            "\u001b[1m2135/2135\u001b[0m \u001b[32m━━━━━━━━━━━━━━━━━━━━\u001b[0m\u001b[37m\u001b[0m \u001b[1m11s\u001b[0m 3ms/step - accuracy: 0.8346 - loss: 0.3459 - val_accuracy: 0.8347 - val_loss: 0.3492\n",
            "Epoch 19/30\n",
            "\u001b[1m2135/2135\u001b[0m \u001b[32m━━━━━━━━━━━━━━━━━━━━\u001b[0m\u001b[37m\u001b[0m \u001b[1m6s\u001b[0m 3ms/step - accuracy: 0.8355 - loss: 0.3477 - val_accuracy: 0.8351 - val_loss: 0.3501\n",
            "Epoch 20/30\n",
            "\u001b[1m2135/2135\u001b[0m \u001b[32m━━━━━━━━━━━━━━━━━━━━\u001b[0m\u001b[37m\u001b[0m \u001b[1m10s\u001b[0m 3ms/step - accuracy: 0.8368 - loss: 0.3411 - val_accuracy: 0.8352 - val_loss: 0.3488\n",
            "Epoch 21/30\n",
            "\u001b[1m2135/2135\u001b[0m \u001b[32m━━━━━━━━━━━━━━━━━━━━\u001b[0m\u001b[37m\u001b[0m \u001b[1m6s\u001b[0m 3ms/step - accuracy: 0.8372 - loss: 0.3425 - val_accuracy: 0.8344 - val_loss: 0.3488\n",
            "Epoch 22/30\n",
            "\u001b[1m2135/2135\u001b[0m \u001b[32m━━━━━━━━━━━━━━━━━━━━\u001b[0m\u001b[37m\u001b[0m \u001b[1m5s\u001b[0m 3ms/step - accuracy: 0.8425 - loss: 0.3354 - val_accuracy: 0.8344 - val_loss: 0.3499\n",
            "Epoch 23/30\n",
            "\u001b[1m2135/2135\u001b[0m \u001b[32m━━━━━━━━━━━━━━━━━━━━\u001b[0m\u001b[37m\u001b[0m \u001b[1m6s\u001b[0m 3ms/step - accuracy: 0.8370 - loss: 0.3461 - val_accuracy: 0.8352 - val_loss: 0.3493\n",
            "Epoch 24/30\n",
            "\u001b[1m2135/2135\u001b[0m \u001b[32m━━━━━━━━━━━━━━━━━━━━\u001b[0m\u001b[37m\u001b[0m \u001b[1m9s\u001b[0m 2ms/step - accuracy: 0.8358 - loss: 0.3453 - val_accuracy: 0.8344 - val_loss: 0.3482\n",
            "Epoch 25/30\n",
            "\u001b[1m2135/2135\u001b[0m \u001b[32m━━━━━━━━━━━━━━━━━━━━\u001b[0m\u001b[37m\u001b[0m \u001b[1m6s\u001b[0m 3ms/step - accuracy: 0.8384 - loss: 0.3405 - val_accuracy: 0.8341 - val_loss: 0.3497\n",
            "Epoch 26/30\n",
            "\u001b[1m2135/2135\u001b[0m \u001b[32m━━━━━━━━━━━━━━━━━━━━\u001b[0m\u001b[37m\u001b[0m \u001b[1m5s\u001b[0m 3ms/step - accuracy: 0.8369 - loss: 0.3434 - val_accuracy: 0.8344 - val_loss: 0.3492\n",
            "Epoch 27/30\n",
            "\u001b[1m2135/2135\u001b[0m \u001b[32m━━━━━━━━━━━━━━━━━━━━\u001b[0m\u001b[37m\u001b[0m \u001b[1m6s\u001b[0m 3ms/step - accuracy: 0.8346 - loss: 0.3459 - val_accuracy: 0.8336 - val_loss: 0.3509\n",
            "Epoch 28/30\n",
            "\u001b[1m2135/2135\u001b[0m \u001b[32m━━━━━━━━━━━━━━━━━━━━\u001b[0m\u001b[37m\u001b[0m \u001b[1m10s\u001b[0m 3ms/step - accuracy: 0.8398 - loss: 0.3404 - val_accuracy: 0.8334 - val_loss: 0.3500\n",
            "Epoch 29/30\n",
            "\u001b[1m2135/2135\u001b[0m \u001b[32m━━━━━━━━━━━━━━━━━━━━\u001b[0m\u001b[37m\u001b[0m \u001b[1m6s\u001b[0m 3ms/step - accuracy: 0.8389 - loss: 0.3436 - val_accuracy: 0.8344 - val_loss: 0.3470\n",
            "Epoch 30/30\n",
            "\u001b[1m2135/2135\u001b[0m \u001b[32m━━━━━━━━━━━━━━━━━━━━\u001b[0m\u001b[37m\u001b[0m \u001b[1m11s\u001b[0m 3ms/step - accuracy: 0.8392 - loss: 0.3421 - val_accuracy: 0.8338 - val_loss: 0.3497\n",
            "Adam finished in 30 epochs\n",
            "Train Acc = 0.8373, Val Acc = 0.8338, Test Acc = 0.8358\n"
          ]
        }
      ]
    },
    {
      "cell_type": "markdown",
      "source": [
        "- SGD: Train Acc = 0.8286, Val Acc = 0.8332, Test Acc = 0.8333\n",
        "\n",
        "- SGD + Momentum: Train Acc = 0.8294, Val Acc = 0.8091, Test Acc = 0.8358\n",
        "\n",
        "- Adam: Train Acc = 0.8373, Val Acc = 0.8338, Test Acc = 0.8358\n",
        "\n",
        "- fastest convergence: SDG took the fewest number of epochs to converge\n",
        "\n",
        "- Best generalization: Adam\n",
        "\n",
        "- Adam often performs better than plain SGD since Adam combines momentum + adaptive learning rate, so while it may take slightly longer, it avoids oscillations and produces better accuracy and stability.\n"
      ],
      "metadata": {
        "id": "GQh15-_fqM8E"
      }
    },
    {
      "cell_type": "code",
      "source": [],
      "metadata": {
        "id": "1-lzczkC8fvk"
      },
      "execution_count": null,
      "outputs": []
    },
    {
      "cell_type": "markdown",
      "source": [
        "## Part 2: Batch Size\n",
        "1. Train the same model with different batch sizes (e.g., 1, 32, 128, 1024).\n",
        "2. Compare:\n",
        "   - Training speed\n",
        "   - Validation accuracy\n",
        "   - Test accuracy\n",
        "   - Generalization ability\n",
        "3. Which batch size leads to the **noisiest gradient updates**?\n",
        "4. Which batch size generalizes better and why?"
      ],
      "metadata": {
        "id": "Wv6ZlRldHC09"
      }
    },
    {
      "cell_type": "code",
      "source": [
        "batch_sizes = [1, 32, 128, 1024]\n",
        "\n",
        "for x in batch_sizes:\n",
        "    print(\"\\n \")\n",
        "    print(f\"Training with batch size = {x}\")\n",
        "    model=Sequential()\n",
        "    model.add(Dense(64, activation='relu', input_shape=(12,)))\n",
        "    model.add(Dense(1, activation='sigmoid'))\n",
        "    optimizer = SGD(learning_rate=0.01)\n",
        "    model.compile(optimizer=optimizer,loss='binary_crossentropy',metrics=['accuracy'])\n",
        "\n",
        "    early_stop = EarlyStopping(monitor='val_loss',patience=5,restore_best_weights=True)\n",
        "\n",
        "    #train\n",
        "    history = model.fit(X_train, y_train,validation_data=(X_val, y_val),epochs=30,batch_size=x,callbacks=[early_stop],\n",
        "        verbose=0  #keeps output clean\n",
        "                        )\n",
        "\n",
        "    #output results\n",
        "    train_acc = history.history['accuracy'][-1]\n",
        "    val_acc = history.history['val_accuracy'][-1]\n",
        "    test_acc = model.evaluate(X_test, y_test, verbose=0)[1]\n",
        "    test_acc = model.evaluate(X_test, y_test, verbose=0)[1]\n",
        "    print(f\"Finished in {len(history.epoch)} epochs\")\n",
        "    print(f\"Train Acc = {train_acc:.4f}, Val Acc = {val_acc:.4f}, Test Acc = {test_acc:.4f}\")\n"
      ],
      "metadata": {
        "id": "uBodrpTrHLMy",
        "colab": {
          "base_uri": "https://localhost:8080/"
        },
        "outputId": "7abcff27-116b-4c40-b758-43e781f68b1e"
      },
      "execution_count": null,
      "outputs": [
        {
          "output_type": "stream",
          "name": "stdout",
          "text": [
            "\n",
            " \n",
            "Training with batch size = 1\n"
          ]
        },
        {
          "output_type": "stream",
          "name": "stderr",
          "text": [
            "/usr/local/lib/python3.12/dist-packages/keras/src/layers/core/dense.py:93: UserWarning: Do not pass an `input_shape`/`input_dim` argument to a layer. When using Sequential models, prefer using an `Input(shape)` object as the first layer in the model instead.\n",
            "  super().__init__(activity_regularizer=activity_regularizer, **kwargs)\n"
          ]
        },
        {
          "output_type": "stream",
          "name": "stdout",
          "text": [
            "Finished in 14 epochs\n",
            "Train Acc = 0.8282, Val Acc = 0.8277, Test Acc = 0.8378\n",
            "\n",
            " \n",
            "Training with batch size = 32\n"
          ]
        },
        {
          "output_type": "stream",
          "name": "stderr",
          "text": [
            "/usr/local/lib/python3.12/dist-packages/keras/src/layers/core/dense.py:93: UserWarning: Do not pass an `input_shape`/`input_dim` argument to a layer. When using Sequential models, prefer using an `Input(shape)` object as the first layer in the model instead.\n",
            "  super().__init__(activity_regularizer=activity_regularizer, **kwargs)\n"
          ]
        },
        {
          "output_type": "stream",
          "name": "stdout",
          "text": [
            "Finished in 23 epochs\n",
            "Train Acc = 0.8325, Val Acc = 0.8337, Test Acc = 0.8386\n",
            "\n",
            " \n",
            "Training with batch size = 128\n"
          ]
        },
        {
          "output_type": "stream",
          "name": "stderr",
          "text": [
            "/usr/local/lib/python3.12/dist-packages/keras/src/layers/core/dense.py:93: UserWarning: Do not pass an `input_shape`/`input_dim` argument to a layer. When using Sequential models, prefer using an `Input(shape)` object as the first layer in the model instead.\n",
            "  super().__init__(activity_regularizer=activity_regularizer, **kwargs)\n"
          ]
        },
        {
          "output_type": "stream",
          "name": "stdout",
          "text": [
            "Finished in 30 epochs\n",
            "Train Acc = 0.8309, Val Acc = 0.8277, Test Acc = 0.8348\n",
            "\n",
            " \n",
            "Training with batch size = 1024\n"
          ]
        },
        {
          "output_type": "stream",
          "name": "stderr",
          "text": [
            "/usr/local/lib/python3.12/dist-packages/keras/src/layers/core/dense.py:93: UserWarning: Do not pass an `input_shape`/`input_dim` argument to a layer. When using Sequential models, prefer using an `Input(shape)` object as the first layer in the model instead.\n",
            "  super().__init__(activity_regularizer=activity_regularizer, **kwargs)\n"
          ]
        },
        {
          "output_type": "stream",
          "name": "stdout",
          "text": [
            "Finished in 30 epochs\n",
            "Train Acc = 0.8068, Val Acc = 0.8076, Test Acc = 0.8138\n"
          ]
        }
      ]
    },
    {
      "cell_type": "markdown",
      "source": [
        "#### SGD batches:\n",
        "- Batch size = 1: slowest, because each update happens after every single sample.\n",
        "\n",
        "Batch size = 32, 128: each epoch is fast, and convergence is steady.\n",
        "\n",
        "Batch size = 1024 : very fast per epoch, but needs many epochs to converge.\n",
        "\n",
        "- Best validation accuracy: Batch = 32.\n",
        "- Best test accuracy: Batch = 32.\n",
        "- Best generalization: Batch = 32(since train, val accuracy values and test are close)\n",
        "\n",
        "- Batch size = 1: noisiest(each update is based on a single sample, high variance)."
      ],
      "metadata": {
        "id": "jC3kcOUQxhxb"
      }
    },
    {
      "cell_type": "code",
      "source": [
        "batch_sizes = [1, 32, 128, 1024]\n",
        "\n",
        "for x in batch_sizes:\n",
        "    print(\"\\n \")\n",
        "    print(f\"Training with batch size = {x}\")\n",
        "    model=Sequential()\n",
        "    model.add(Dense(64, activation='relu', input_shape=(12,)))\n",
        "    model.add(Dense(1, activation='sigmoid'))\n",
        "    optimizer = SGD(learning_rate=0.01,momentum=0.9)\n",
        "    model.compile(optimizer=optimizer,loss='binary_crossentropy',metrics=['accuracy'])\n",
        "\n",
        "    early_stop = EarlyStopping(monitor='val_loss',patience=5,restore_best_weights=True)\n",
        "\n",
        "    #train\n",
        "    history = model.fit(X_train, y_train,validation_data=(X_val, y_val),epochs=30,batch_size=x,callbacks=[early_stop],\n",
        "        verbose=0  #keeps output clean\n",
        "                        )\n",
        "\n",
        "    #output results\n",
        "    train_acc = history.history['accuracy'][-1]\n",
        "    val_acc = history.history['val_accuracy'][-1]\n",
        "    test_acc = model.evaluate(X_test, y_test, verbose=0)[1]\n",
        "    print(f\"Finished in {len(history.epoch)} epochs\")\n",
        "    print(f\"Train Acc = {train_acc:.4f}, Val Acc = {val_acc:.4f}, Test Acc = {test_acc:.4f}\")\n"
      ],
      "metadata": {
        "id": "G114xniKPUMk",
        "colab": {
          "base_uri": "https://localhost:8080/"
        },
        "outputId": "88cff686-9414-4d7c-94f5-c4c5a38b02b7"
      },
      "execution_count": null,
      "outputs": [
        {
          "output_type": "stream",
          "name": "stdout",
          "text": [
            "\n",
            " \n",
            "Training with batch size = 1\n"
          ]
        },
        {
          "output_type": "stream",
          "name": "stderr",
          "text": [
            "/usr/local/lib/python3.12/dist-packages/keras/src/layers/core/dense.py:93: UserWarning: Do not pass an `input_shape`/`input_dim` argument to a layer. When using Sequential models, prefer using an `Input(shape)` object as the first layer in the model instead.\n",
            "  super().__init__(activity_regularizer=activity_regularizer, **kwargs)\n"
          ]
        },
        {
          "output_type": "stream",
          "name": "stdout",
          "text": [
            "Finished in 17 epochs\n",
            "Train Acc = 0.7571, Val Acc = 0.7606, Test Acc = 0.7606\n",
            "\n",
            " \n",
            "Training with batch size = 32\n"
          ]
        },
        {
          "output_type": "stream",
          "name": "stderr",
          "text": [
            "/usr/local/lib/python3.12/dist-packages/keras/src/layers/core/dense.py:93: UserWarning: Do not pass an `input_shape`/`input_dim` argument to a layer. When using Sequential models, prefer using an `Input(shape)` object as the first layer in the model instead.\n",
            "  super().__init__(activity_regularizer=activity_regularizer, **kwargs)\n"
          ]
        },
        {
          "output_type": "stream",
          "name": "stdout",
          "text": [
            "Finished in 18 epochs\n",
            "Train Acc = 0.8323, Val Acc = 0.8110, Test Acc = 0.8393\n",
            "\n",
            " \n",
            "Training with batch size = 128\n"
          ]
        },
        {
          "output_type": "stream",
          "name": "stderr",
          "text": [
            "/usr/local/lib/python3.12/dist-packages/keras/src/layers/core/dense.py:93: UserWarning: Do not pass an `input_shape`/`input_dim` argument to a layer. When using Sequential models, prefer using an `Input(shape)` object as the first layer in the model instead.\n",
            "  super().__init__(activity_regularizer=activity_regularizer, **kwargs)\n"
          ]
        },
        {
          "output_type": "stream",
          "name": "stdout",
          "text": [
            "Finished in 20 epochs\n",
            "Train Acc = 0.8316, Val Acc = 0.8337, Test Acc = 0.8377\n",
            "\n",
            " \n",
            "Training with batch size = 1024\n"
          ]
        },
        {
          "output_type": "stream",
          "name": "stderr",
          "text": [
            "/usr/local/lib/python3.12/dist-packages/keras/src/layers/core/dense.py:93: UserWarning: Do not pass an `input_shape`/`input_dim` argument to a layer. When using Sequential models, prefer using an `Input(shape)` object as the first layer in the model instead.\n",
            "  super().__init__(activity_regularizer=activity_regularizer, **kwargs)\n"
          ]
        },
        {
          "output_type": "stream",
          "name": "stdout",
          "text": [
            "Finished in 23 epochs\n",
            "Train Acc = 0.8324, Val Acc = 0.8296, Test Acc = 0.8352\n"
          ]
        }
      ]
    },
    {
      "cell_type": "markdown",
      "source": [
        "- Batch = 1: 17 epochs, fastest convergence.\n",
        "\n",
        "Batch = 32: 18 epochs, slower than batch=1, but still efficient.\n",
        "\n",
        "Batch = 128: 20 epochs,slower than batch=32.\n",
        "\n",
        "Batch = 1024: 23 epochs, slowes.\n",
        "\n",
        "- Best validation accuracy: Batch=128\n",
        "- Best test accuracy:Batch=32\n",
        "- Best Generalization: Batch = 128 (balanced val & test).\n",
        "- Worst performance: Batch=1 (too noisy) and Batch=1024 (weak generalization)"
      ],
      "metadata": {
        "id": "fZkLK6ZS2nDD"
      }
    },
    {
      "cell_type": "code",
      "source": [
        "batch_sizes = [1, 32, 128, 1024]\n",
        "\n",
        "for x in batch_sizes:\n",
        "    print(\"\\n \")\n",
        "    print(f\"Training with batch size = {x}\")\n",
        "    model=Sequential()\n",
        "    model.add(Dense(64, activation='relu', input_shape=(12,)))\n",
        "    model.add(Dense(1, activation='sigmoid'))\n",
        "    optimizer = Adam(learning_rate=0.001)\n",
        "    model.compile(optimizer=optimizer,loss='binary_crossentropy',metrics=['accuracy'])\n",
        "\n",
        "    early_stop = EarlyStopping(monitor='val_loss',patience=5,restore_best_weights=True)\n",
        "\n",
        "    #train\n",
        "    history = model.fit(X_train, y_train,validation_data=(X_val, y_val),epochs=30,batch_size=x,callbacks=[early_stop],verbose=0)\n",
        "\n",
        "    #output results\n",
        "    train_acc = history.history['accuracy'][-1]\n",
        "    val_acc = history.history['val_accuracy'][-1]\n",
        "    test_acc = model.evaluate(X_test, y_test, verbose=0)[1]\n",
        "    print(f\"Finished in {len(history.epoch)} epochs\")\n",
        "    print(f\"Train Acc = {train_acc:.4f}, Val Acc = {val_acc:.4f}, Test Acc = {test_acc:.4f}\")"
      ],
      "metadata": {
        "id": "Gt-G-vIMPUFl",
        "colab": {
          "base_uri": "https://localhost:8080/"
        },
        "outputId": "def4b47e-6771-44fa-b296-76950def6034"
      },
      "execution_count": null,
      "outputs": [
        {
          "output_type": "stream",
          "name": "stdout",
          "text": [
            "\n",
            " \n",
            "Training with batch size = 1\n"
          ]
        },
        {
          "output_type": "stream",
          "name": "stderr",
          "text": [
            "/usr/local/lib/python3.12/dist-packages/keras/src/layers/core/dense.py:93: UserWarning: Do not pass an `input_shape`/`input_dim` argument to a layer. When using Sequential models, prefer using an `Input(shape)` object as the first layer in the model instead.\n",
            "  super().__init__(activity_regularizer=activity_regularizer, **kwargs)\n"
          ]
        },
        {
          "output_type": "stream",
          "name": "stdout",
          "text": [
            "Finished in 11 epochs\n",
            "Train Acc = 0.8357, Val Acc = 0.8349, Test Acc = 0.8389\n",
            "\n",
            " \n",
            "Training with batch size = 32\n"
          ]
        },
        {
          "output_type": "stream",
          "name": "stderr",
          "text": [
            "/usr/local/lib/python3.12/dist-packages/keras/src/layers/core/dense.py:93: UserWarning: Do not pass an `input_shape`/`input_dim` argument to a layer. When using Sequential models, prefer using an `Input(shape)` object as the first layer in the model instead.\n",
            "  super().__init__(activity_regularizer=activity_regularizer, **kwargs)\n"
          ]
        },
        {
          "output_type": "stream",
          "name": "stdout",
          "text": [
            "Finished in 7 epochs\n",
            "Train Acc = 0.8342, Val Acc = 0.8282, Test Acc = 0.8382\n",
            "\n",
            " \n",
            "Training with batch size = 128\n"
          ]
        },
        {
          "output_type": "stream",
          "name": "stderr",
          "text": [
            "/usr/local/lib/python3.12/dist-packages/keras/src/layers/core/dense.py:93: UserWarning: Do not pass an `input_shape`/`input_dim` argument to a layer. When using Sequential models, prefer using an `Input(shape)` object as the first layer in the model instead.\n",
            "  super().__init__(activity_regularizer=activity_regularizer, **kwargs)\n"
          ]
        },
        {
          "output_type": "stream",
          "name": "stdout",
          "text": [
            "Finished in 19 epochs\n",
            "Train Acc = 0.8363, Val Acc = 0.8310, Test Acc = 0.8378\n",
            "\n",
            " \n",
            "Training with batch size = 1024\n"
          ]
        },
        {
          "output_type": "stream",
          "name": "stderr",
          "text": [
            "/usr/local/lib/python3.12/dist-packages/keras/src/layers/core/dense.py:93: UserWarning: Do not pass an `input_shape`/`input_dim` argument to a layer. When using Sequential models, prefer using an `Input(shape)` object as the first layer in the model instead.\n",
            "  super().__init__(activity_regularizer=activity_regularizer, **kwargs)\n"
          ]
        },
        {
          "output_type": "stream",
          "name": "stdout",
          "text": [
            "Finished in 30 epochs\n",
            "Train Acc = 0.8361, Val Acc = 0.8342, Test Acc = 0.8400\n"
          ]
        }
      ]
    },
    {
      "cell_type": "markdown",
      "source": [
        "- Batch=1: 11 epochs,fast convergence.\n",
        "\n",
        "Batch=32: 7 epochs, fastest.\n",
        "\n",
        "Batch=128: 19 epochs, slower.\n",
        "\n",
        "Batch=1024: 30 epochs, slowest.\n",
        "\n",
        "- Best validation acc: Batch = 1\n",
        "- Best test accuracy: Batch = 1024\n",
        "- All batch sizes generalize very well (val and test nearly identical)..\n",
        "\n",
        "- noisiest gradient updates:batch = 1"
      ],
      "metadata": {
        "id": "Cubn-ITpAmH6"
      }
    },
    {
      "cell_type": "markdown",
      "source": [
        "\n",
        "## Part 3: Overfitting and Regularization\n",
        "1. Train a large neural network (many parameters) on the dataset.\n",
        "2. Observe training vs. validation accuracy.  \n",
        "   - Do you see signs of overfitting?\n",
        "3. Apply regularization techniques:\n",
        "   - **L2 regularization**\n",
        "   - **Dropout**\n",
        "4. Compare the validation results before and after regularization.\n",
        "5. Which regularization method was more effective in reducing overfitting? Why?\n",
        "\n",
        "---\n"
      ],
      "metadata": {
        "id": "9NDO_bUjHDz3"
      }
    },
    {
      "cell_type": "markdown",
      "source": [
        "### Large model  without regularization"
      ],
      "metadata": {
        "id": "WIw23SF0EeJ9"
      }
    },
    {
      "cell_type": "code",
      "source": [
        "model_1 = Sequential()\n",
        "model_1.add(Dense(500, activation='relu', input_shape=(12,)))\n",
        "model_1.add(Dense(300, activation='relu'))\n",
        "model_1.add(Dense(150, activation='relu'))\n",
        "model_1.add(Dense(1, activation='sigmoid'))\n",
        "model_1.compile(optimizer='adam', loss='binary_crossentropy', metrics=['accuracy'])\n",
        "\n",
        "history = model_1.fit(X_train, y_train, validation_data=(X_val, y_val),epochs=50, batch_size=32, verbose=0)\n",
        "train_acc = history.history['accuracy'][-1]\n",
        "val_acc = history.history['val_accuracy'][-1]\n",
        "test_acc = model_1.evaluate(X_test, y_test, verbose=0)[1]\n",
        "print(f\"Finished in {len(history.epoch)} epochs\")\n",
        "print(f\"Train Acc = {train_acc:.4f}, Val Acc = {val_acc:.4f}, Test Acc = {test_acc:.4f}\")"
      ],
      "metadata": {
        "id": "d74t2UPVHKdO",
        "colab": {
          "base_uri": "https://localhost:8080/"
        },
        "outputId": "fb4f6c32-8a76-49ec-c2c1-6221ffb74961"
      },
      "execution_count": null,
      "outputs": [
        {
          "output_type": "stream",
          "name": "stderr",
          "text": [
            "/usr/local/lib/python3.12/dist-packages/keras/src/layers/core/dense.py:93: UserWarning: Do not pass an `input_shape`/`input_dim` argument to a layer. When using Sequential models, prefer using an `Input(shape)` object as the first layer in the model instead.\n",
            "  super().__init__(activity_regularizer=activity_regularizer, **kwargs)\n"
          ]
        },
        {
          "output_type": "stream",
          "name": "stdout",
          "text": [
            "Finished in 50 epochs\n",
            "Train Acc = 0.8407, Val Acc = 0.8336, Test Acc = 0.8401\n"
          ]
        }
      ]
    },
    {
      "cell_type": "markdown",
      "source": [
        "- No clear signs of overfitting"
      ],
      "metadata": {
        "id": "fVPjTw1ITud8"
      }
    },
    {
      "cell_type": "markdown",
      "source": [
        "### L2 Regularization:"
      ],
      "metadata": {
        "id": "vPs6jru1EzZS"
      }
    },
    {
      "cell_type": "code",
      "source": [
        "model_l2 = Sequential()\n",
        "model_l2.add(Dense(500, activation='relu', input_shape=(12,)))\n",
        "model_l2.add(Dense(300, activation='relu', kernel_regularizer=regularizers.l2(0.001)))\n",
        "model_l2.add(Dense(150, activation='relu', kernel_regularizer=regularizers.l2(0.001)))\n",
        "model_l2.add(Dense(1, activation='sigmoid'))\n",
        "model_l2.compile(optimizer='adam', loss='binary_crossentropy', metrics=['accuracy'])\n",
        "\n",
        "history = model_l2.fit(X_train, y_train, validation_data=(X_val, y_val),epochs=50, batch_size=32, verbose=0)\n",
        "train_acc = history.history['accuracy'][-1]\n",
        "val_acc = history.history['val_accuracy'][-1]\n",
        "test_acc = model_l2.evaluate(X_test, y_test, verbose=0)[1]\n",
        "print(f\"Finished in {len(history.epoch)} epochs\")\n",
        "print(f\"Train Acc = {train_acc:.4f}, Val Acc = {val_acc:.4f}, Test Acc = {test_acc:.4f}\")"
      ],
      "metadata": {
        "id": "BV3G3kLhDrlc",
        "colab": {
          "base_uri": "https://localhost:8080/"
        },
        "outputId": "d4ce4ace-7ce5-4896-edbe-3ce24bdf1713"
      },
      "execution_count": null,
      "outputs": [
        {
          "metadata": {
            "tags": null
          },
          "name": "stderr",
          "output_type": "stream",
          "text": [
            "/usr/local/lib/python3.12/dist-packages/keras/src/layers/core/dense.py:93: UserWarning: Do not pass an `input_shape`/`input_dim` argument to a layer. When using Sequential models, prefer using an `Input(shape)` object as the first layer in the model instead.\n",
            "  super().__init__(activity_regularizer=activity_regularizer, **kwargs)\n"
          ]
        },
        {
          "output_type": "stream",
          "name": "stdout",
          "text": [
            "Finished in 50 epochs\n",
            "Train Acc = 0.8384, Val Acc = 0.8351, Test Acc = 0.8410\n"
          ]
        }
      ]
    },
    {
      "cell_type": "markdown",
      "source": [
        "- after L2 the model generalized better than before regularization (train and val accuracy values are more close)\n",
        "\n"
      ],
      "metadata": {
        "id": "5Fhe9TaSUJKQ"
      }
    },
    {
      "cell_type": "markdown",
      "source": [
        "### Dropout:"
      ],
      "metadata": {
        "id": "TMX09yaEE4JV"
      }
    },
    {
      "cell_type": "code",
      "source": [
        "model_drop= Sequential()\n",
        "model_drop.add(Dense(500, activation='relu', input_shape=(12,)))\n",
        "model_drop.add(Dropout(0.5))\n",
        "model_drop.add(Dense(300, activation='relu', kernel_regularizer=regularizers.l2(0.001)))\n",
        "model_drop.add(Dense(150, activation='relu', kernel_regularizer=regularizers.l2(0.001)))\n",
        "model_drop.add(Dense(1, activation='sigmoid'))\n",
        "model_drop.compile(optimizer='adam', loss='binary_crossentropy', metrics=['accuracy'])\n",
        "\n",
        "history = model_drop.fit(X_train, y_train, validation_data=(X_val, y_val),epochs=50, batch_size=32, verbose=0)\n",
        "train_acc = history.history['accuracy'][-1]\n",
        "val_acc = history.history['val_accuracy'][-1]\n",
        "test_acc = model_drop.evaluate(X_test, y_test, verbose=0)[1]\n",
        "print(f\"Finished in {len(history.epoch)} epochs\")\n",
        "print(f\"Train Acc = {train_acc:.4f}, Val Acc = {val_acc:.4f}, Test Acc = {test_acc:.4f}\")"
      ],
      "metadata": {
        "id": "UKFy9qUpFACb",
        "colab": {
          "base_uri": "https://localhost:8080/"
        },
        "outputId": "5daa429f-c070-4c8a-c406-85eeeb95a175"
      },
      "execution_count": null,
      "outputs": [
        {
          "output_type": "stream",
          "name": "stderr",
          "text": [
            "/usr/local/lib/python3.12/dist-packages/keras/src/layers/core/dense.py:93: UserWarning: Do not pass an `input_shape`/`input_dim` argument to a layer. When using Sequential models, prefer using an `Input(shape)` object as the first layer in the model instead.\n",
            "  super().__init__(activity_regularizer=activity_regularizer, **kwargs)\n"
          ]
        },
        {
          "output_type": "stream",
          "name": "stdout",
          "text": [
            "Finished in 50 epochs\n",
            "Train Acc = 0.8364, Val Acc = 0.8347, Test Acc = 0.8381\n"
          ]
        }
      ]
    },
    {
      "cell_type": "markdown",
      "source": [
        "- after Dropout the model generalized better than before regularization and even better than L2 regularization (train, val annd test accuracy values are more close)"
      ],
      "metadata": {
        "id": "AImW3AKlUdKP"
      }
    },
    {
      "cell_type": "markdown",
      "source": [
        "## Part 4: Early Stopping\n",
        "1. Train the model for many epochs without early stopping.  \n",
        "   - Plot training, validation, and test curves.\n",
        "2. Train again with **early stopping** (monitor validation loss).\n",
        "3. Compare the number of epochs trained and the final validation/test accuracy.\n",
        "4. Explain how early stopping helps prevent overfitting.\n",
        "\n",
        "---"
      ],
      "metadata": {
        "id": "B0NQsxyYHFpy"
      }
    },
    {
      "cell_type": "markdown",
      "source": [
        "- I've already tried with early stopping in the previous cells"
      ],
      "metadata": {
        "id": "RVdSCkcvpqwz"
      }
    },
    {
      "cell_type": "code",
      "source": [
        "#SGD without early stopping\n",
        "model = Sequential()\n",
        "model.add(Dense(64, activation='relu', input_shape=(12,)))\n",
        "model.add(Dense(1, activation='sigmoid'))\n",
        "#compile the model using SGD\n",
        "optimizer = SGD(learning_rate=0.01)\n",
        "model.compile(optimizer=optimizer, loss='binary_crossentropy', metrics=['accuracy'])\n",
        "\n",
        "# Train\n",
        "history = model.fit(X_train, y_train, validation_data=(X_val, y_val), epochs=30, batch_size=16)\n",
        "# Output the result after training\n",
        "train_acc = history.history['accuracy'][-1]\n",
        "val_acc = history.history['val_accuracy'][-1]\n",
        "test_acc = model.evaluate(X_test, y_test, verbose=0)[1]\n",
        "print(f\"Finished in {len(history.epoch)} epochs\")\n",
        "print(f\"Train Acc = {train_acc:.4f}, Val Acc = {val_acc:.4f}, Test Acc = {test_acc:.4f}\")\n"
      ],
      "metadata": {
        "id": "bnqrGbCzHI2V",
        "colab": {
          "base_uri": "https://localhost:8080/"
        },
        "outputId": "b548fe30-5859-4c77-bf7d-6d727b379bd1"
      },
      "execution_count": 33,
      "outputs": [
        {
          "output_type": "stream",
          "name": "stdout",
          "text": [
            "Epoch 1/30\n"
          ]
        },
        {
          "output_type": "stream",
          "name": "stderr",
          "text": [
            "/usr/local/lib/python3.12/dist-packages/keras/src/layers/core/dense.py:93: UserWarning: Do not pass an `input_shape`/`input_dim` argument to a layer. When using Sequential models, prefer using an `Input(shape)` object as the first layer in the model instead.\n",
            "  super().__init__(activity_regularizer=activity_regularizer, **kwargs)\n"
          ]
        },
        {
          "output_type": "stream",
          "name": "stdout",
          "text": [
            "\u001b[1m2135/2135\u001b[0m \u001b[32m━━━━━━━━━━━━━━━━━━━━\u001b[0m\u001b[37m\u001b[0m \u001b[1m15s\u001b[0m 6ms/step - accuracy: 0.7876 - loss: 0.4633 - val_accuracy: 0.7987 - val_loss: 0.3984\n",
            "Epoch 2/30\n",
            "\u001b[1m2135/2135\u001b[0m \u001b[32m━━━━━━━━━━━━━━━━━━━━\u001b[0m\u001b[37m\u001b[0m \u001b[1m10s\u001b[0m 5ms/step - accuracy: 0.8180 - loss: 0.3805 - val_accuracy: 0.8273 - val_loss: 0.3630\n",
            "Epoch 3/30\n",
            "\u001b[1m2135/2135\u001b[0m \u001b[32m━━━━━━━━━━━━━━━━━━━━\u001b[0m\u001b[37m\u001b[0m \u001b[1m5s\u001b[0m 2ms/step - accuracy: 0.8247 - loss: 0.3656 - val_accuracy: 0.8265 - val_loss: 0.3659\n",
            "Epoch 4/30\n",
            "\u001b[1m2135/2135\u001b[0m \u001b[32m━━━━━━━━━━━━━━━━━━━━\u001b[0m\u001b[37m\u001b[0m \u001b[1m6s\u001b[0m 3ms/step - accuracy: 0.8271 - loss: 0.3615 - val_accuracy: 0.8265 - val_loss: 0.3617\n",
            "Epoch 5/30\n",
            "\u001b[1m2135/2135\u001b[0m \u001b[32m━━━━━━━━━━━━━━━━━━━━\u001b[0m\u001b[37m\u001b[0m \u001b[1m10s\u001b[0m 3ms/step - accuracy: 0.8276 - loss: 0.3619 - val_accuracy: 0.8204 - val_loss: 0.3696\n",
            "Epoch 6/30\n",
            "\u001b[1m2135/2135\u001b[0m \u001b[32m━━━━━━━━━━━━━━━━━━━━\u001b[0m\u001b[37m\u001b[0m \u001b[1m10s\u001b[0m 2ms/step - accuracy: 0.8293 - loss: 0.3564 - val_accuracy: 0.8286 - val_loss: 0.3590\n",
            "Epoch 7/30\n",
            "\u001b[1m2135/2135\u001b[0m \u001b[32m━━━━━━━━━━━━━━━━━━━━\u001b[0m\u001b[37m\u001b[0m \u001b[1m6s\u001b[0m 3ms/step - accuracy: 0.8286 - loss: 0.3582 - val_accuracy: 0.8318 - val_loss: 0.3546\n",
            "Epoch 8/30\n",
            "\u001b[1m2135/2135\u001b[0m \u001b[32m━━━━━━━━━━━━━━━━━━━━\u001b[0m\u001b[37m\u001b[0m \u001b[1m5s\u001b[0m 2ms/step - accuracy: 0.8275 - loss: 0.3589 - val_accuracy: 0.8180 - val_loss: 0.3764\n",
            "Epoch 9/30\n",
            "\u001b[1m2135/2135\u001b[0m \u001b[32m━━━━━━━━━━━━━━━━━━━━\u001b[0m\u001b[37m\u001b[0m \u001b[1m6s\u001b[0m 3ms/step - accuracy: 0.8291 - loss: 0.3569 - val_accuracy: 0.8304 - val_loss: 0.3546\n",
            "Epoch 10/30\n",
            "\u001b[1m2135/2135\u001b[0m \u001b[32m━━━━━━━━━━━━━━━━━━━━\u001b[0m\u001b[37m\u001b[0m \u001b[1m9s\u001b[0m 2ms/step - accuracy: 0.8341 - loss: 0.3517 - val_accuracy: 0.8271 - val_loss: 0.3617\n",
            "Epoch 11/30\n",
            "\u001b[1m2135/2135\u001b[0m \u001b[32m━━━━━━━━━━━━━━━━━━━━\u001b[0m\u001b[37m\u001b[0m \u001b[1m6s\u001b[0m 3ms/step - accuracy: 0.8299 - loss: 0.3537 - val_accuracy: 0.8256 - val_loss: 0.3637\n",
            "Epoch 12/30\n",
            "\u001b[1m2135/2135\u001b[0m \u001b[32m━━━━━━━━━━━━━━━━━━━━\u001b[0m\u001b[37m\u001b[0m \u001b[1m5s\u001b[0m 2ms/step - accuracy: 0.8329 - loss: 0.3530 - val_accuracy: 0.8342 - val_loss: 0.3528\n",
            "Epoch 13/30\n",
            "\u001b[1m2135/2135\u001b[0m \u001b[32m━━━━━━━━━━━━━━━━━━━━\u001b[0m\u001b[37m\u001b[0m \u001b[1m7s\u001b[0m 3ms/step - accuracy: 0.8344 - loss: 0.3488 - val_accuracy: 0.8340 - val_loss: 0.3541\n",
            "Epoch 14/30\n",
            "\u001b[1m2135/2135\u001b[0m \u001b[32m━━━━━━━━━━━━━━━━━━━━\u001b[0m\u001b[37m\u001b[0m \u001b[1m8s\u001b[0m 2ms/step - accuracy: 0.8376 - loss: 0.3475 - val_accuracy: 0.8080 - val_loss: 0.3934\n",
            "Epoch 15/30\n",
            "\u001b[1m2135/2135\u001b[0m \u001b[32m━━━━━━━━━━━━━━━━━━━━\u001b[0m\u001b[37m\u001b[0m \u001b[1m6s\u001b[0m 3ms/step - accuracy: 0.8313 - loss: 0.3522 - val_accuracy: 0.8322 - val_loss: 0.3527\n",
            "Epoch 16/30\n",
            "\u001b[1m2135/2135\u001b[0m \u001b[32m━━━━━━━━━━━━━━━━━━━━\u001b[0m\u001b[37m\u001b[0m \u001b[1m9s\u001b[0m 2ms/step - accuracy: 0.8319 - loss: 0.3522 - val_accuracy: 0.8345 - val_loss: 0.3529\n",
            "Epoch 17/30\n",
            "\u001b[1m2135/2135\u001b[0m \u001b[32m━━━━━━━━━━━━━━━━━━━━\u001b[0m\u001b[37m\u001b[0m \u001b[1m6s\u001b[0m 3ms/step - accuracy: 0.8306 - loss: 0.3546 - val_accuracy: 0.8280 - val_loss: 0.3572\n",
            "Epoch 18/30\n",
            "\u001b[1m2135/2135\u001b[0m \u001b[32m━━━━━━━━━━━━━━━━━━━━\u001b[0m\u001b[37m\u001b[0m \u001b[1m11s\u001b[0m 3ms/step - accuracy: 0.8391 - loss: 0.3455 - val_accuracy: 0.8314 - val_loss: 0.3544\n",
            "Epoch 19/30\n",
            "\u001b[1m2135/2135\u001b[0m \u001b[32m━━━━━━━━━━━━━━━━━━━━\u001b[0m\u001b[37m\u001b[0m \u001b[1m5s\u001b[0m 2ms/step - accuracy: 0.8302 - loss: 0.3506 - val_accuracy: 0.8334 - val_loss: 0.3527\n",
            "Epoch 20/30\n",
            "\u001b[1m2135/2135\u001b[0m \u001b[32m━━━━━━━━━━━━━━━━━━━━\u001b[0m\u001b[37m\u001b[0m \u001b[1m5s\u001b[0m 2ms/step - accuracy: 0.8318 - loss: 0.3514 - val_accuracy: 0.8334 - val_loss: 0.3548\n",
            "Epoch 21/30\n",
            "\u001b[1m2135/2135\u001b[0m \u001b[32m━━━━━━━━━━━━━━━━━━━━\u001b[0m\u001b[37m\u001b[0m \u001b[1m6s\u001b[0m 3ms/step - accuracy: 0.8308 - loss: 0.3537 - val_accuracy: 0.8322 - val_loss: 0.3537\n",
            "Epoch 22/30\n",
            "\u001b[1m2135/2135\u001b[0m \u001b[32m━━━━━━━━━━━━━━━━━━━━\u001b[0m\u001b[37m\u001b[0m \u001b[1m9s\u001b[0m 2ms/step - accuracy: 0.8329 - loss: 0.3538 - val_accuracy: 0.8344 - val_loss: 0.3539\n",
            "Epoch 23/30\n",
            "\u001b[1m2135/2135\u001b[0m \u001b[32m━━━━━━━━━━━━━━━━━━━━\u001b[0m\u001b[37m\u001b[0m \u001b[1m10s\u001b[0m 2ms/step - accuracy: 0.8324 - loss: 0.3487 - val_accuracy: 0.8321 - val_loss: 0.3534\n",
            "Epoch 24/30\n",
            "\u001b[1m2135/2135\u001b[0m \u001b[32m━━━━━━━━━━━━━━━━━━━━\u001b[0m\u001b[37m\u001b[0m \u001b[1m6s\u001b[0m 3ms/step - accuracy: 0.8350 - loss: 0.3492 - val_accuracy: 0.8296 - val_loss: 0.3567\n",
            "Epoch 25/30\n",
            "\u001b[1m2135/2135\u001b[0m \u001b[32m━━━━━━━━━━━━━━━━━━━━\u001b[0m\u001b[37m\u001b[0m \u001b[1m5s\u001b[0m 2ms/step - accuracy: 0.8369 - loss: 0.3442 - val_accuracy: 0.8348 - val_loss: 0.3520\n",
            "Epoch 26/30\n",
            "\u001b[1m2135/2135\u001b[0m \u001b[32m━━━━━━━━━━━━━━━━━━━━\u001b[0m\u001b[37m\u001b[0m \u001b[1m5s\u001b[0m 3ms/step - accuracy: 0.8357 - loss: 0.3458 - val_accuracy: 0.8326 - val_loss: 0.3561\n",
            "Epoch 27/30\n",
            "\u001b[1m2135/2135\u001b[0m \u001b[32m━━━━━━━━━━━━━━━━━━━━\u001b[0m\u001b[37m\u001b[0m \u001b[1m10s\u001b[0m 2ms/step - accuracy: 0.8337 - loss: 0.3496 - val_accuracy: 0.8336 - val_loss: 0.3528\n",
            "Epoch 28/30\n",
            "\u001b[1m2135/2135\u001b[0m \u001b[32m━━━━━━━━━━━━━━━━━━━━\u001b[0m\u001b[37m\u001b[0m \u001b[1m6s\u001b[0m 3ms/step - accuracy: 0.8354 - loss: 0.3484 - val_accuracy: 0.8252 - val_loss: 0.3608\n",
            "Epoch 29/30\n",
            "\u001b[1m2135/2135\u001b[0m \u001b[32m━━━━━━━━━━━━━━━━━━━━\u001b[0m\u001b[37m\u001b[0m \u001b[1m5s\u001b[0m 2ms/step - accuracy: 0.8355 - loss: 0.3444 - val_accuracy: 0.8315 - val_loss: 0.3554\n",
            "Epoch 30/30\n",
            "\u001b[1m2135/2135\u001b[0m \u001b[32m━━━━━━━━━━━━━━━━━━━━\u001b[0m\u001b[37m\u001b[0m \u001b[1m6s\u001b[0m 2ms/step - accuracy: 0.8310 - loss: 0.3527 - val_accuracy: 0.8344 - val_loss: 0.3552\n",
            "Finished in 30 epochs\n",
            "Train Acc = 0.8340, Val Acc = 0.8344, Test Acc = 0.8369\n"
          ]
        }
      ]
    },
    {
      "cell_type": "code",
      "source": [
        "#SGD+momentum without early stopping\n",
        "m_model= Sequential()\n",
        "m_model.add(Dense(64, activation='relu', input_shape=(12,)))\n",
        "m_model.add(Dense(1, activation='sigmoid'))\n",
        "#compile the model using SGD\n",
        "optimizer = SGD(learning_rate=0.01, momentum=0.9)\n",
        "m_model.compile(optimizer=optimizer, loss='binary_crossentropy', metrics=['accuracy'])\n",
        "\n",
        "# Train\n",
        "history = m_model.fit(X_train, y_train, validation_data=(X_val, y_val), epochs=30, batch_size=16)\n",
        "# Output the result after training\n",
        "train_acc = history.history['accuracy'][-1]\n",
        "val_acc = history.history['val_accuracy'][-1]\n",
        "test_acc = m_model.evaluate(X_test, y_test, verbose=0)[1]\n",
        "print(f\"Finished in {len(history.epoch)} epochs\")\n",
        "print(f\"Train Acc = {train_acc:.4f}, Val Acc = {val_acc:.4f}, Test Acc = {test_acc:.4f}\")\n"
      ],
      "metadata": {
        "id": "8m6qFAVq4iDC",
        "colab": {
          "base_uri": "https://localhost:8080/"
        },
        "outputId": "d9f33cc7-4ab5-4006-ca2e-a3b2a65b76ce"
      },
      "execution_count": null,
      "outputs": [
        {
          "output_type": "stream",
          "name": "stderr",
          "text": [
            "/usr/local/lib/python3.12/dist-packages/keras/src/layers/core/dense.py:93: UserWarning: Do not pass an `input_shape`/`input_dim` argument to a layer. When using Sequential models, prefer using an `Input(shape)` object as the first layer in the model instead.\n",
            "  super().__init__(activity_regularizer=activity_regularizer, **kwargs)\n"
          ]
        },
        {
          "output_type": "stream",
          "name": "stdout",
          "text": [
            "Epoch 1/30\n",
            "\u001b[1m2135/2135\u001b[0m \u001b[32m━━━━━━━━━━━━━━━━━━━━\u001b[0m\u001b[37m\u001b[0m \u001b[1m7s\u001b[0m 3ms/step - accuracy: 0.7874 - loss: 0.4425 - val_accuracy: 0.8062 - val_loss: 0.3905\n",
            "Epoch 2/30\n",
            "\u001b[1m2135/2135\u001b[0m \u001b[32m━━━━━━━━━━━━━━━━━━━━\u001b[0m\u001b[37m\u001b[0m \u001b[1m5s\u001b[0m 3ms/step - accuracy: 0.8163 - loss: 0.3750 - val_accuracy: 0.8327 - val_loss: 0.3577\n",
            "Epoch 3/30\n",
            "\u001b[1m2135/2135\u001b[0m \u001b[32m━━━━━━━━━━━━━━━━━━━━\u001b[0m\u001b[37m\u001b[0m \u001b[1m10s\u001b[0m 3ms/step - accuracy: 0.8246 - loss: 0.3652 - val_accuracy: 0.8341 - val_loss: 0.3546\n",
            "Epoch 4/30\n",
            "\u001b[1m2135/2135\u001b[0m \u001b[32m━━━━━━━━━━━━━━━━━━━━\u001b[0m\u001b[37m\u001b[0m \u001b[1m7s\u001b[0m 3ms/step - accuracy: 0.8291 - loss: 0.3604 - val_accuracy: 0.8285 - val_loss: 0.3593\n",
            "Epoch 5/30\n",
            "\u001b[1m2135/2135\u001b[0m \u001b[32m━━━━━━━━━━━━━━━━━━━━\u001b[0m\u001b[37m\u001b[0m \u001b[1m5s\u001b[0m 3ms/step - accuracy: 0.8229 - loss: 0.3654 - val_accuracy: 0.8072 - val_loss: 0.3915\n",
            "Epoch 6/30\n",
            "\u001b[1m2135/2135\u001b[0m \u001b[32m━━━━━━━━━━━━━━━━━━━━\u001b[0m\u001b[37m\u001b[0m \u001b[1m7s\u001b[0m 3ms/step - accuracy: 0.8235 - loss: 0.3675 - val_accuracy: 0.8284 - val_loss: 0.3668\n",
            "Epoch 7/30\n",
            "\u001b[1m2135/2135\u001b[0m \u001b[32m━━━━━━━━━━━━━━━━━━━━\u001b[0m\u001b[37m\u001b[0m \u001b[1m9s\u001b[0m 2ms/step - accuracy: 0.8291 - loss: 0.3626 - val_accuracy: 0.8280 - val_loss: 0.3553\n",
            "Epoch 8/30\n",
            "\u001b[1m2135/2135\u001b[0m \u001b[32m━━━━━━━━━━━━━━━━━━━━\u001b[0m\u001b[37m\u001b[0m \u001b[1m10s\u001b[0m 3ms/step - accuracy: 0.8270 - loss: 0.3596 - val_accuracy: 0.8232 - val_loss: 0.3622\n",
            "Epoch 9/30\n",
            "\u001b[1m2135/2135\u001b[0m \u001b[32m━━━━━━━━━━━━━━━━━━━━\u001b[0m\u001b[37m\u001b[0m \u001b[1m11s\u001b[0m 3ms/step - accuracy: 0.8280 - loss: 0.3580 - val_accuracy: 0.8329 - val_loss: 0.3556\n",
            "Epoch 10/30\n",
            "\u001b[1m2135/2135\u001b[0m \u001b[32m━━━━━━━━━━━━━━━━━━━━\u001b[0m\u001b[37m\u001b[0m \u001b[1m10s\u001b[0m 3ms/step - accuracy: 0.8308 - loss: 0.3621 - val_accuracy: 0.8334 - val_loss: 0.3571\n",
            "Epoch 11/30\n",
            "\u001b[1m2135/2135\u001b[0m \u001b[32m━━━━━━━━━━━━━━━━━━━━\u001b[0m\u001b[37m\u001b[0m \u001b[1m5s\u001b[0m 2ms/step - accuracy: 0.8255 - loss: 0.3646 - val_accuracy: 0.8330 - val_loss: 0.3559\n",
            "Epoch 12/30\n",
            "\u001b[1m2135/2135\u001b[0m \u001b[32m━━━━━━━━━━━━━━━━━━━━\u001b[0m\u001b[37m\u001b[0m \u001b[1m10s\u001b[0m 2ms/step - accuracy: 0.8238 - loss: 0.3625 - val_accuracy: 0.8217 - val_loss: 0.3707\n",
            "Epoch 13/30\n",
            "\u001b[1m2135/2135\u001b[0m \u001b[32m━━━━━━━━━━━━━━━━━━━━\u001b[0m\u001b[37m\u001b[0m \u001b[1m7s\u001b[0m 3ms/step - accuracy: 0.8285 - loss: 0.3555 - val_accuracy: 0.8217 - val_loss: 0.3734\n",
            "Epoch 14/30\n",
            "\u001b[1m2135/2135\u001b[0m \u001b[32m━━━━━━━━━━━━━━━━━━━━\u001b[0m\u001b[37m\u001b[0m \u001b[1m9s\u001b[0m 2ms/step - accuracy: 0.8260 - loss: 0.3614 - val_accuracy: 0.8334 - val_loss: 0.3526\n",
            "Epoch 15/30\n",
            "\u001b[1m2135/2135\u001b[0m \u001b[32m━━━━━━━━━━━━━━━━━━━━\u001b[0m\u001b[37m\u001b[0m \u001b[1m7s\u001b[0m 3ms/step - accuracy: 0.8311 - loss: 0.3545 - val_accuracy: 0.8299 - val_loss: 0.3598\n",
            "Epoch 16/30\n",
            "\u001b[1m2135/2135\u001b[0m \u001b[32m━━━━━━━━━━━━━━━━━━━━\u001b[0m\u001b[37m\u001b[0m \u001b[1m5s\u001b[0m 2ms/step - accuracy: 0.8267 - loss: 0.3606 - val_accuracy: 0.8319 - val_loss: 0.3565\n",
            "Epoch 17/30\n",
            "\u001b[1m2135/2135\u001b[0m \u001b[32m━━━━━━━━━━━━━━━━━━━━\u001b[0m\u001b[37m\u001b[0m \u001b[1m6s\u001b[0m 3ms/step - accuracy: 0.8305 - loss: 0.3576 - val_accuracy: 0.8244 - val_loss: 0.3653\n",
            "Epoch 18/30\n",
            "\u001b[1m2135/2135\u001b[0m \u001b[32m━━━━━━━━━━━━━━━━━━━━\u001b[0m\u001b[37m\u001b[0m \u001b[1m5s\u001b[0m 2ms/step - accuracy: 0.8318 - loss: 0.3546 - val_accuracy: 0.8347 - val_loss: 0.3539\n",
            "Epoch 19/30\n",
            "\u001b[1m2135/2135\u001b[0m \u001b[32m━━━━━━━━━━━━━━━━━━━━\u001b[0m\u001b[37m\u001b[0m \u001b[1m6s\u001b[0m 2ms/step - accuracy: 0.8325 - loss: 0.3583 - val_accuracy: 0.8334 - val_loss: 0.3549\n",
            "Epoch 20/30\n",
            "\u001b[1m2135/2135\u001b[0m \u001b[32m━━━━━━━━━━━━━━━━━━━━\u001b[0m\u001b[37m\u001b[0m \u001b[1m5s\u001b[0m 3ms/step - accuracy: 0.8317 - loss: 0.3538 - val_accuracy: 0.8315 - val_loss: 0.3574\n",
            "Epoch 21/30\n",
            "\u001b[1m2135/2135\u001b[0m \u001b[32m━━━━━━━━━━━━━━━━━━━━\u001b[0m\u001b[37m\u001b[0m \u001b[1m11s\u001b[0m 3ms/step - accuracy: 0.8275 - loss: 0.3592 - val_accuracy: 0.8338 - val_loss: 0.3538\n",
            "Epoch 22/30\n",
            "\u001b[1m2135/2135\u001b[0m \u001b[32m━━━━━━━━━━━━━━━━━━━━\u001b[0m\u001b[37m\u001b[0m \u001b[1m9s\u001b[0m 3ms/step - accuracy: 0.8305 - loss: 0.3579 - val_accuracy: 0.8310 - val_loss: 0.3537\n",
            "Epoch 23/30\n",
            "\u001b[1m2135/2135\u001b[0m \u001b[32m━━━━━━━━━━━━━━━━━━━━\u001b[0m\u001b[37m\u001b[0m \u001b[1m6s\u001b[0m 3ms/step - accuracy: 0.8277 - loss: 0.3565 - val_accuracy: 0.8318 - val_loss: 0.3532\n",
            "Epoch 24/30\n",
            "\u001b[1m2135/2135\u001b[0m \u001b[32m━━━━━━━━━━━━━━━━━━━━\u001b[0m\u001b[37m\u001b[0m \u001b[1m6s\u001b[0m 3ms/step - accuracy: 0.8296 - loss: 0.3564 - val_accuracy: 0.8336 - val_loss: 0.3556\n",
            "Epoch 25/30\n",
            "\u001b[1m2135/2135\u001b[0m \u001b[32m━━━━━━━━━━━━━━━━━━━━\u001b[0m\u001b[37m\u001b[0m \u001b[1m10s\u001b[0m 3ms/step - accuracy: 0.8332 - loss: 0.3549 - val_accuracy: 0.8280 - val_loss: 0.3585\n",
            "Epoch 26/30\n",
            "\u001b[1m2135/2135\u001b[0m \u001b[32m━━━━━━━━━━━━━━━━━━━━\u001b[0m\u001b[37m\u001b[0m \u001b[1m6s\u001b[0m 3ms/step - accuracy: 0.8307 - loss: 0.3553 - val_accuracy: 0.8340 - val_loss: 0.3549\n",
            "Epoch 27/30\n",
            "\u001b[1m2135/2135\u001b[0m \u001b[32m━━━━━━━━━━━━━━━━━━━━\u001b[0m\u001b[37m\u001b[0m \u001b[1m6s\u001b[0m 3ms/step - accuracy: 0.8289 - loss: 0.3581 - val_accuracy: 0.8347 - val_loss: 0.3531\n",
            "Epoch 28/30\n",
            "\u001b[1m2135/2135\u001b[0m \u001b[32m━━━━━━━━━━━━━━━━━━━━\u001b[0m\u001b[37m\u001b[0m \u001b[1m12s\u001b[0m 4ms/step - accuracy: 0.8317 - loss: 0.3599 - val_accuracy: 0.8295 - val_loss: 0.3574\n",
            "Epoch 29/30\n",
            "\u001b[1m2135/2135\u001b[0m \u001b[32m━━━━━━━━━━━━━━━━━━━━\u001b[0m\u001b[37m\u001b[0m \u001b[1m8s\u001b[0m 3ms/step - accuracy: 0.8311 - loss: 0.3542 - val_accuracy: 0.8303 - val_loss: 0.3611\n",
            "Epoch 30/30\n",
            "\u001b[1m2135/2135\u001b[0m \u001b[32m━━━━━━━━━━━━━━━━━━━━\u001b[0m\u001b[37m\u001b[0m \u001b[1m10s\u001b[0m 2ms/step - accuracy: 0.8274 - loss: 0.3565 - val_accuracy: 0.8239 - val_loss: 0.3768\n",
            "Finished in 30 epochs\n",
            "Train Acc = 0.8320, Val Acc = 0.8239, Test Acc = 0.8328\n"
          ]
        }
      ]
    },
    {
      "cell_type": "code",
      "source": [
        "# Adam without early stopping\n",
        "adm_model=Sequential()\n",
        "adm_model.add(Dense(64, activation='relu', input_shape=(12,)))\n",
        "adm_model.add(Dense(1, activation='sigmoid'))\n",
        "#compile the model using SGD\n",
        "optimizer = Adam(learning_rate=0.001)\n",
        "adm_model.compile(optimizer=optimizer, loss='binary_crossentropy', metrics=['accuracy'])\n",
        "\n",
        "# Train\n",
        "history = adm_model.fit(X_train, y_train, validation_data=(X_val, y_val), epochs=30, batch_size=16)\n",
        "# Output the result after training\n",
        "train_acc = history.history['accuracy'][-1]\n",
        "val_acc = history.history['val_accuracy'][-1]\n",
        "test_acc = adm_model.evaluate(X_test, y_test, verbose=0)[1]\n",
        "\n",
        "print(f\"Adam finished in {len(history.epoch)} epochs\")\n",
        "print(f\"Train Acc = {train_acc:.4f}, Val Acc = {val_acc:.4f}, Test Acc = {test_acc:.4f}\")"
      ],
      "metadata": {
        "id": "1_PmlvVc4h2p",
        "colab": {
          "base_uri": "https://localhost:8080/"
        },
        "outputId": "a000b3c7-8422-4500-b634-c592f9607a5d"
      },
      "execution_count": 38,
      "outputs": [
        {
          "output_type": "stream",
          "name": "stdout",
          "text": [
            "Epoch 1/30\n"
          ]
        },
        {
          "output_type": "stream",
          "name": "stderr",
          "text": [
            "/usr/local/lib/python3.12/dist-packages/keras/src/layers/core/dense.py:93: UserWarning: Do not pass an `input_shape`/`input_dim` argument to a layer. When using Sequential models, prefer using an `Input(shape)` object as the first layer in the model instead.\n",
            "  super().__init__(activity_regularizer=activity_regularizer, **kwargs)\n"
          ]
        },
        {
          "output_type": "stream",
          "name": "stdout",
          "text": [
            "\u001b[1m2135/2135\u001b[0m \u001b[32m━━━━━━━━━━━━━━━━━━━━\u001b[0m\u001b[37m\u001b[0m \u001b[1m8s\u001b[0m 3ms/step - accuracy: 0.8102 - loss: 0.4099 - val_accuracy: 0.8304 - val_loss: 0.3568\n",
            "Epoch 2/30\n",
            "\u001b[1m2135/2135\u001b[0m \u001b[32m━━━━━━━━━━━━━━━━━━━━\u001b[0m\u001b[37m\u001b[0m \u001b[1m6s\u001b[0m 3ms/step - accuracy: 0.8309 - loss: 0.3548 - val_accuracy: 0.8310 - val_loss: 0.3565\n",
            "Epoch 3/30\n",
            "\u001b[1m2135/2135\u001b[0m \u001b[32m━━━━━━━━━━━━━━━━━━━━\u001b[0m\u001b[37m\u001b[0m \u001b[1m7s\u001b[0m 3ms/step - accuracy: 0.8319 - loss: 0.3562 - val_accuracy: 0.8316 - val_loss: 0.3566\n",
            "Epoch 4/30\n",
            "\u001b[1m2135/2135\u001b[0m \u001b[32m━━━━━━━━━━━━━━━━━━━━\u001b[0m\u001b[37m\u001b[0m \u001b[1m6s\u001b[0m 3ms/step - accuracy: 0.8332 - loss: 0.3503 - val_accuracy: 0.8341 - val_loss: 0.3527\n",
            "Epoch 5/30\n",
            "\u001b[1m2135/2135\u001b[0m \u001b[32m━━━━━━━━━━━━━━━━━━━━\u001b[0m\u001b[37m\u001b[0m \u001b[1m7s\u001b[0m 3ms/step - accuracy: 0.8348 - loss: 0.3458 - val_accuracy: 0.8329 - val_loss: 0.3527\n",
            "Epoch 6/30\n",
            "\u001b[1m2135/2135\u001b[0m \u001b[32m━━━━━━━━━━━━━━━━━━━━\u001b[0m\u001b[37m\u001b[0m \u001b[1m9s\u001b[0m 3ms/step - accuracy: 0.8305 - loss: 0.3544 - val_accuracy: 0.8322 - val_loss: 0.3588\n",
            "Epoch 7/30\n",
            "\u001b[1m2135/2135\u001b[0m \u001b[32m━━━━━━━━━━━━━━━━━━━━\u001b[0m\u001b[37m\u001b[0m \u001b[1m7s\u001b[0m 3ms/step - accuracy: 0.8353 - loss: 0.3470 - val_accuracy: 0.8336 - val_loss: 0.3534\n",
            "Epoch 8/30\n",
            "\u001b[1m2135/2135\u001b[0m \u001b[32m━━━━━━━━━━━━━━━━━━━━\u001b[0m\u001b[37m\u001b[0m \u001b[1m10s\u001b[0m 3ms/step - accuracy: 0.8351 - loss: 0.3496 - val_accuracy: 0.8233 - val_loss: 0.3604\n",
            "Epoch 9/30\n",
            "\u001b[1m2135/2135\u001b[0m \u001b[32m━━━━━━━━━━━━━━━━━━━━\u001b[0m\u001b[37m\u001b[0m \u001b[1m9s\u001b[0m 3ms/step - accuracy: 0.8350 - loss: 0.3454 - val_accuracy: 0.8351 - val_loss: 0.3513\n",
            "Epoch 10/30\n",
            "\u001b[1m2135/2135\u001b[0m \u001b[32m━━━━━━━━━━━━━━━━━━━━\u001b[0m\u001b[37m\u001b[0m \u001b[1m7s\u001b[0m 3ms/step - accuracy: 0.8345 - loss: 0.3524 - val_accuracy: 0.8340 - val_loss: 0.3518\n",
            "Epoch 11/30\n",
            "\u001b[1m2135/2135\u001b[0m \u001b[32m━━━━━━━━━━━━━━━━━━━━\u001b[0m\u001b[37m\u001b[0m \u001b[1m6s\u001b[0m 3ms/step - accuracy: 0.8342 - loss: 0.3474 - val_accuracy: 0.8355 - val_loss: 0.3503\n",
            "Epoch 12/30\n",
            "\u001b[1m2135/2135\u001b[0m \u001b[32m━━━━━━━━━━━━━━━━━━━━\u001b[0m\u001b[37m\u001b[0m \u001b[1m7s\u001b[0m 3ms/step - accuracy: 0.8389 - loss: 0.3432 - val_accuracy: 0.8314 - val_loss: 0.3527\n",
            "Epoch 13/30\n",
            "\u001b[1m2135/2135\u001b[0m \u001b[32m━━━━━━━━━━━━━━━━━━━━\u001b[0m\u001b[37m\u001b[0m \u001b[1m6s\u001b[0m 3ms/step - accuracy: 0.8360 - loss: 0.3455 - val_accuracy: 0.8334 - val_loss: 0.3520\n",
            "Epoch 14/30\n",
            "\u001b[1m2135/2135\u001b[0m \u001b[32m━━━━━━━━━━━━━━━━━━━━\u001b[0m\u001b[37m\u001b[0m \u001b[1m10s\u001b[0m 3ms/step - accuracy: 0.8373 - loss: 0.3471 - val_accuracy: 0.8281 - val_loss: 0.3577\n",
            "Epoch 15/30\n",
            "\u001b[1m2135/2135\u001b[0m \u001b[32m━━━━━━━━━━━━━━━━━━━━\u001b[0m\u001b[37m\u001b[0m \u001b[1m11s\u001b[0m 3ms/step - accuracy: 0.8347 - loss: 0.3467 - val_accuracy: 0.8323 - val_loss: 0.3538\n",
            "Epoch 16/30\n",
            "\u001b[1m2135/2135\u001b[0m \u001b[32m━━━━━━━━━━━━━━━━━━━━\u001b[0m\u001b[37m\u001b[0m \u001b[1m11s\u001b[0m 3ms/step - accuracy: 0.8347 - loss: 0.3454 - val_accuracy: 0.8342 - val_loss: 0.3494\n",
            "Epoch 17/30\n",
            "\u001b[1m2135/2135\u001b[0m \u001b[32m━━━━━━━━━━━━━━━━━━━━\u001b[0m\u001b[37m\u001b[0m \u001b[1m6s\u001b[0m 3ms/step - accuracy: 0.8349 - loss: 0.3472 - val_accuracy: 0.8353 - val_loss: 0.3478\n",
            "Epoch 18/30\n",
            "\u001b[1m2135/2135\u001b[0m \u001b[32m━━━━━━━━━━━━━━━━━━━━\u001b[0m\u001b[37m\u001b[0m \u001b[1m7s\u001b[0m 3ms/step - accuracy: 0.8358 - loss: 0.3451 - val_accuracy: 0.8359 - val_loss: 0.3484\n",
            "Epoch 19/30\n",
            "\u001b[1m2135/2135\u001b[0m \u001b[32m━━━━━━━━━━━━━━━━━━━━\u001b[0m\u001b[37m\u001b[0m \u001b[1m9s\u001b[0m 3ms/step - accuracy: 0.8386 - loss: 0.3431 - val_accuracy: 0.8359 - val_loss: 0.3480\n",
            "Epoch 20/30\n",
            "\u001b[1m2135/2135\u001b[0m \u001b[32m━━━━━━━━━━━━━━━━━━━━\u001b[0m\u001b[37m\u001b[0m \u001b[1m10s\u001b[0m 3ms/step - accuracy: 0.8346 - loss: 0.3452 - val_accuracy: 0.8353 - val_loss: 0.3478\n",
            "Epoch 21/30\n",
            "\u001b[1m2135/2135\u001b[0m \u001b[32m━━━━━━━━━━━━━━━━━━━━\u001b[0m\u001b[37m\u001b[0m \u001b[1m7s\u001b[0m 3ms/step - accuracy: 0.8409 - loss: 0.3408 - val_accuracy: 0.8367 - val_loss: 0.3487\n",
            "Epoch 22/30\n",
            "\u001b[1m2135/2135\u001b[0m \u001b[32m━━━━━━━━━━━━━━━━━━━━\u001b[0m\u001b[37m\u001b[0m \u001b[1m9s\u001b[0m 3ms/step - accuracy: 0.8382 - loss: 0.3450 - val_accuracy: 0.8353 - val_loss: 0.3476\n",
            "Epoch 23/30\n",
            "\u001b[1m2135/2135\u001b[0m \u001b[32m━━━━━━━━━━━━━━━━━━━━\u001b[0m\u001b[37m\u001b[0m \u001b[1m7s\u001b[0m 3ms/step - accuracy: 0.8386 - loss: 0.3435 - val_accuracy: 0.8344 - val_loss: 0.3489\n",
            "Epoch 24/30\n",
            "\u001b[1m2135/2135\u001b[0m \u001b[32m━━━━━━━━━━━━━━━━━━━━\u001b[0m\u001b[37m\u001b[0m \u001b[1m6s\u001b[0m 3ms/step - accuracy: 0.8375 - loss: 0.3448 - val_accuracy: 0.8347 - val_loss: 0.3478\n",
            "Epoch 25/30\n",
            "\u001b[1m2135/2135\u001b[0m \u001b[32m━━━━━━━━━━━━━━━━━━━━\u001b[0m\u001b[37m\u001b[0m \u001b[1m8s\u001b[0m 4ms/step - accuracy: 0.8390 - loss: 0.3411 - val_accuracy: 0.8353 - val_loss: 0.3478\n",
            "Epoch 26/30\n",
            "\u001b[1m2135/2135\u001b[0m \u001b[32m━━━━━━━━━━━━━━━━━━━━\u001b[0m\u001b[37m\u001b[0m \u001b[1m9s\u001b[0m 3ms/step - accuracy: 0.8374 - loss: 0.3408 - val_accuracy: 0.8325 - val_loss: 0.3525\n",
            "Epoch 27/30\n",
            "\u001b[1m2135/2135\u001b[0m \u001b[32m━━━━━━━━━━━━━━━━━━━━\u001b[0m\u001b[37m\u001b[0m \u001b[1m9s\u001b[0m 3ms/step - accuracy: 0.8388 - loss: 0.3402 - val_accuracy: 0.8337 - val_loss: 0.3473\n",
            "Epoch 28/30\n",
            "\u001b[1m2135/2135\u001b[0m \u001b[32m━━━━━━━━━━━━━━━━━━━━\u001b[0m\u001b[37m\u001b[0m \u001b[1m7s\u001b[0m 3ms/step - accuracy: 0.8412 - loss: 0.3362 - val_accuracy: 0.8351 - val_loss: 0.3479\n",
            "Epoch 29/30\n",
            "\u001b[1m2135/2135\u001b[0m \u001b[32m━━━━━━━━━━━━━━━━━━━━\u001b[0m\u001b[37m\u001b[0m \u001b[1m6s\u001b[0m 3ms/step - accuracy: 0.8412 - loss: 0.3373 - val_accuracy: 0.8344 - val_loss: 0.3501\n",
            "Epoch 30/30\n",
            "\u001b[1m2135/2135\u001b[0m \u001b[32m━━━━━━━━━━━━━━━━━━━━\u001b[0m\u001b[37m\u001b[0m \u001b[1m7s\u001b[0m 3ms/step - accuracy: 0.8342 - loss: 0.3478 - val_accuracy: 0.8341 - val_loss: 0.3492\n",
            "Adam finished in 30 epochs\n",
            "Train Acc = 0.8379, Val Acc = 0.8341, Test Acc = 0.8395\n"
          ]
        }
      ]
    },
    {
      "cell_type": "code",
      "source": [
        "plt.figure(figsize=(8,5))\n",
        "plt.plot(history.history['accuracy'], label='Train Accuracy')\n",
        "plt.plot(history.history['val_accuracy'], label='Validation Accuracy')\n",
        "plt.hlines(test_acc, xmin=0, xmax=len(history.epoch)-1, colors='r', linestyles='dashed', label=f'Test Accuracy = {test_acc:.4f}')\n",
        "plt.xlabel('Epoch')\n",
        "plt.ylabel('Accuracy')\n",
        "plt.title('Train vs Validation vs Test Accuracy')\n",
        "plt.legend()"
      ],
      "metadata": {
        "colab": {
          "base_uri": "https://localhost:8080/",
          "height": 504
        },
        "id": "C8AnVe5SqsRx",
        "outputId": "c055ca72-69a1-4140-d6f7-25c940f85b7a"
      },
      "execution_count": 37,
      "outputs": [
        {
          "output_type": "execute_result",
          "data": {
            "text/plain": [
              "<matplotlib.legend.Legend at 0x7fe356ede300>"
            ]
          },
          "metadata": {},
          "execution_count": 37
        },
        {
          "output_type": "display_data",
          "data": {
            "text/plain": [
              "<Figure size 800x500 with 1 Axes>"
            ],
            "image/png": "[encoded data removed]"
          },
          "metadata": {}
        }
      ]
    },
    {
      "cell_type": "markdown",
      "source": [
        "- without early stopping, trainig takes longer time(more epochs).\n",
        "\n",
        "- without early stopping, the accuracy is slightky higher.\n",
        "\n",
        "- how early stopping helps prevent overfitting: Stops training when validation accuracy stops improving (to avoid memorizing noise) and restores the best weights found."
      ],
      "metadata": {
        "id": "FYyXJ-uYp3Gw"
      }
    },
    {
      "cell_type": "markdown",
      "source": [
        "## Part 5: Reflection\n",
        "1. Summarize what you learned about:\n",
        "   - The role of optimizers\n",
        "   - The effect of batch size\n",
        "   - Regularization methods\n",
        "   - Early stopping\n",
        "   - Train/validation/test splits\n",
        "2. If you had to train a deep learning model on a new tabular dataset, what choices would you make for:\n",
        "   - Optimizer\n",
        "   - Batch size\n",
        "   - Regularization\n",
        "   - Early stopping\n",
        "   - Data splitting strategy  \n",
        "   and why?"
      ],
      "metadata": {
        "id": "Ix3ePqRnHHSs"
      }
    },
    {
      "cell_type": "markdown",
      "source": [
        "- Optimizers: Control weight updates.\n",
        "\n",
        "- Adam is a good default for its adaptive, fast convergence.\n",
        "\n",
        "- Batch Size: Smaller sizes offer a good trade-off between training stability and generalization.\n",
        "\n",
        "- Regularization: L2 and Dropout prevent overfitting by constraining the model.\n",
        "\n",
        "- Early stopping: stops the training when validation performance plateaus to keep the best model.\n",
        "\n",
        "- train: model fitting. val: for hyperparameter tuning. test:final evaluation.\n",
        "\n",
        "- If i had to train a deep learning model on a new tabular dataset:\n",
        "\n",
        "1. optimizer: Adam\n",
        "\n",
        "2. Batch Size: 32 or 64 (not very big and not too small)\n",
        "\n",
        "3. Regularization: l2 or Dropout (i'll try and use the best one for my model)\n",
        "\n",
        "4. Early Stopping: i'll use it to avoid overfitting(patience: 5-10)\n",
        "\n",
        "5. Data Split: train:70, val:15, test:15 to perform hyperparameter tuning on val set to avoid data leakage\n"
      ],
      "metadata": {
        "id": "XQKXLOa30m48"
      }
    },
    {
      "cell_type": "code",
      "source": [],
      "metadata": {
        "id": "zj8KFZ2LGsuQ"
      },
      "execution_count": null,
      "outputs": []
    }
  ]
}